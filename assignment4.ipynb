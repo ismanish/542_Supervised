{
 "cells": [
  {
   "cell_type": "code",
   "execution_count": 1,
   "metadata": {
    "deletable": false,
    "editable": false,
    "nbgrader": {
     "cell_type": "code",
     "checksum": "13ba088870383e62c088fe80bb112309",
     "grade": false,
     "grade_id": "cell-c18d184342185ba6",
     "locked": true,
     "schema_version": 3,
     "solution": false
    }
   },
   "outputs": [],
   "source": [
    "version = \"v2.0.081822.1\""
   ]
  },
  {
   "cell_type": "code",
   "execution_count": 2,
   "metadata": {},
   "outputs": [],
   "source": [
    "# Either of the following is no longer\n",
    "# necessary for matplotlib in notebooks.\n",
    "# The import statement has you covered!\n",
    "\n",
    "# %matplotlib notebook\n",
    "# %matplotlib inline"
   ]
  },
  {
   "cell_type": "code",
   "execution_count": 3,
   "metadata": {},
   "outputs": [],
   "source": [
    "# Suppress all warnings only when absolutely necessary\n",
    "# Warnings are in place for a reason!\n",
    "import warnings\n",
    "\n",
    "# warnings.filterwarnings('ignore')\n",
    "# warnings.simplefilter('ignore')"
   ]
  },
  {
   "cell_type": "markdown",
   "metadata": {
    "deletable": false,
    "editable": false,
    "nbgrader": {
     "cell_type": "markdown",
     "checksum": "7f98c572d6d128ba7804c8f53ed09a00",
     "grade": false,
     "grade_id": "cell-371f2ff64fb68763",
     "locked": true,
     "schema_version": 3,
     "solution": false
    }
   },
   "source": [
    "# Assignment 4 - Tree-based classification & Synthesis Project\n",
    "\n",
    "### Physiological Sensor Data Analysis (100 points)\n",
    "This synthesis project is based on a dataset of physiological sensor measurements collected from Smartphone based sensors. The original research sought to determine the particular activity of the subject based on the physiological measurements obtained from wearables and a SmartPhone. The physiological measurements were used to depict the test subject in one of four activities as follows:  \n",
    "   - neutral\n",
    "   - emotional\n",
    "   - mental\n",
    "   - physical  \n",
    " \n",
    "Your task will be to produce a model that, based on a limited number of features, returns the best possible estimate of the activity being performed by the test subject. While the original analysis utilized more advanced Machine Learning methods, we will concentrate on the supervised learning methods covered in this course.  \n",
    "\n",
    "The sensor dataset consists of 4480 rows, each with the subject ID, the activity label and 533 measurement features! Each of the 40 test volunteers were subjected to a series of 28 data collection events for each of the four activity types presented above. As you explore this data, you will find that the features are arranged by a particular measurement mode, each consisting of similar statistical values.  \n",
    "Before we get started, it will be necessary to ingest and prepare our data for training and testing purposes.  \n",
    "\n",
    "**Notes**  \n",
    " - Any available random_state or seed values should be initialized with an integer value of 42.\n",
    " - Some standard package imports have been provided below.\n",
    " - Additional import deemed necessary for your analysis can be added in the cell following."
   ]
  },
  {
   "cell_type": "markdown",
   "metadata": {
    "deletable": false,
    "editable": false,
    "nbgrader": {
     "cell_type": "markdown",
     "checksum": "cc91f37b36d6d7297bee00e2728b5cf6",
     "grade": false,
     "grade_id": "cell-8bfe1d8b1ee8cc6f",
     "locked": true,
     "schema_version": 3,
     "solution": false,
     "task": false
    }
   },
   "source": [
    "## library imports"
   ]
  },
  {
   "cell_type": "code",
   "execution_count": 4,
   "metadata": {
    "deletable": false,
    "editable": false,
    "nbgrader": {
     "cell_type": "code",
     "checksum": "f1881ce1ea66591d5c3d01727a5dc1ab",
     "grade": false,
     "grade_id": "cell-93298b856670623e",
     "locked": true,
     "schema_version": 3,
     "solution": false
    }
   },
   "outputs": [],
   "source": [
    "# useful python standard libraries\n",
    "import itertools\n",
    "import math\n",
    "import random\n",
    "\n",
    "# import core libraries\n",
    "import numpy as np\n",
    "import pandas as pd\n",
    "import matplotlib.pyplot as plt\n",
    "\n",
    "# helpful SciKit-Learn libraries\n",
    "from sklearn.metrics import classification_report, roc_auc_score\n",
    "from sklearn.metrics import ConfusionMatrixDisplay, confusion_matrix\n",
    "from sklearn.model_selection import GridSearchCV, train_test_split\n",
    "from sklearn.pipeline import Pipeline\n",
    "from sklearn.preprocessing import StandardScaler\n",
    "\n",
    "# We will use this variable name multiple times\n",
    "base_feature_selector = \"_mad_\""
   ]
  },
  {
   "cell_type": "code",
   "execution_count": 5,
   "metadata": {},
   "outputs": [],
   "source": [
    "# np.set_printoptions(precision=3)\n",
    "from sklearn.tree import DecisionTreeClassifier\n",
    "## Additional imports can be inlcuded here"
   ]
  },
  {
   "cell_type": "markdown",
   "metadata": {
    "deletable": false,
    "editable": false,
    "nbgrader": {
     "cell_type": "markdown",
     "checksum": "a372dcf5b6566cb0ac683aa34035bc27",
     "grade": false,
     "grade_id": "cell-366227f52585e158",
     "locked": true,
     "schema_version": 3,
     "solution": false,
     "task": false
    }
   },
   "source": [
    "## Question 1  (2 points)\n",
    "### Import CSV Sensor Data file\n",
    " - The first order of business is to read the data file, '_sensor_data.csv_ ', from the '_assets/_ ' folder.\n",
    " - Your function should accept zero arguments and return a Pandas DataFrame.\n",
    " - Be aware that the activity labels are in a format that may or may not work with your chosen models. If you choose to reassign the activity labels, use the following:  \n",
    "    - **'neutral' == 1**\n",
    "    - **'emotional' == 2**\n",
    "    - **'mental' == 3**\n",
    "    - **'physical' == 4**"
   ]
  },
  {
   "cell_type": "code",
   "execution_count": 6,
   "metadata": {
    "deletable": false,
    "nbgrader": {
     "cell_type": "code",
     "checksum": "0af85b93538e1924f3d8358fffc82893",
     "grade": false,
     "grade_id": "cell-323ce9af9affa7e8",
     "locked": false,
     "schema_version": 3,
     "solution": true,
     "task": false
    }
   },
   "outputs": [],
   "source": [
    "def get_sensor_data():\n",
    "    df = None\n",
    "    df = pd.read_csv(\"assets/sensor_data.csv\")\n",
    "    dic1 = {'neutral':1, 'emotional':2, 'mental':3, 'physical':4}\n",
    "\n",
    "    df[\"Activity_Label\"] = df[\"Activity_Label\"].map(dic1)\n",
    "\n",
    "    # YOUR CODE HERE\n",
    "#     raise NotImplementedError()\n",
    "\n",
    "    return df"
   ]
  },
  {
   "cell_type": "code",
   "execution_count": 7,
   "metadata": {},
   "outputs": [],
   "source": [
    "# # use this cell to explore the data\n",
    "# # remember to comment the function call before submitting the notebook\n",
    "\n",
    "# get_sensor_data()"
   ]
  },
  {
   "cell_type": "code",
   "execution_count": 8,
   "metadata": {
    "deletable": false,
    "editable": false,
    "nbgrader": {
     "cell_type": "code",
     "checksum": "8cafa248ec7ffea87343b6b6b44ba948",
     "grade": true,
     "grade_id": "cell-d56b92a082173913",
     "locked": true,
     "points": 2,
     "schema_version": 3,
     "solution": false,
     "task": false
    }
   },
   "outputs": [],
   "source": [
    "# Autograder tests\n",
    "\n",
    "stu_ans = get_sensor_data()\n",
    "\n",
    "assert isinstance(\n",
    "    stu_ans, pd.DataFrame\n",
    "), \"Q1: Your get_sensor_data function must return a Pandas DataFrame.\"\n",
    "\n",
    "assert isinstance(\n",
    "    stu_ans.iloc[0][2], np.float64\n",
    "), \"Q1: The dtype of the first row, third column, is incorrect.\"\n",
    "\n",
    "del stu_ans"
   ]
  },
  {
   "cell_type": "markdown",
   "metadata": {
    "deletable": false,
    "editable": false,
    "nbgrader": {
     "cell_type": "markdown",
     "checksum": "75c407c279f0d2c9b5193a07668eec0a",
     "grade": false,
     "grade_id": "cell-e309fa31d13a784b",
     "locked": true,
     "schema_version": 3,
     "solution": false,
     "task": false
    }
   },
   "source": [
    "## Question 2  (3 points)\n",
    "### Standard train_test_split\n",
    " - Our first exercise will be to produce a SciKit-Learn standard train/test split of a dataframe. In the following cell, complete the function that returns a standard train/test split of the sensor data.\n",
    "   - The function should accept a dataframe as produced by get_sensor_data() and a test_split value which defaults to 0.2.\n",
    "   - The function should return the standard X_train, X_test, y_train, y_test."
   ]
  },
  {
   "cell_type": "code",
   "execution_count": 9,
   "metadata": {
    "deletable": false,
    "nbgrader": {
     "cell_type": "code",
     "checksum": "ce5eb4171a3dce8386d1757a61a45aba",
     "grade": false,
     "grade_id": "cell-bcd3c8cc8a52f6b7",
     "locked": false,
     "schema_version": 3,
     "solution": true,
     "task": false
    }
   },
   "outputs": [],
   "source": [
    "def std_train_test_split(df, test_split=0.2):\n",
    "\n",
    "    X_train, X_test, y_train, y_test = (None,) * 4\n",
    "    \n",
    "    X= df.iloc[:,2:]\n",
    "    y = df['Activity_Label']\n",
    "\n",
    "    X_train, X_test, y_train, y_test = train_test_split(X, y, test_size=test_split, random_state=42)\n",
    "\n",
    "    # YOUR CODE HERE\n",
    "#     raise NotImplementedError()\n",
    "\n",
    "    return X_train, X_test, y_train, y_test"
   ]
  },
  {
   "cell_type": "code",
   "execution_count": 10,
   "metadata": {},
   "outputs": [],
   "source": [
    "# # use this cell to explore your solution\n",
    "# # remember to comment the function call before submitting the notebook\n",
    "\n",
    "# X_train, X_test, y_train, y_test = std_train_test_split(get_sensor_data(), test_split=0.2)"
   ]
  },
  {
   "cell_type": "code",
   "execution_count": 11,
   "metadata": {
    "deletable": false,
    "editable": false,
    "nbgrader": {
     "cell_type": "code",
     "checksum": "dfd340819ecf4c92e5f2047e9adaf52f",
     "grade": true,
     "grade_id": "cell-aeeea8534654fbda",
     "locked": true,
     "points": 3,
     "schema_version": 3,
     "solution": false,
     "task": false
    }
   },
   "outputs": [],
   "source": [
    "# Autograder tests\n",
    "\n",
    "df = get_sensor_data()\n",
    "stu_ans = std_train_test_split(df)\n",
    "\n",
    "assert isinstance(stu_ans[0], pd.DataFrame), \"Q2: X_train should be a pd.DataFrame\"\n",
    "assert isinstance(stu_ans[2], pd.Series), \"Q2: y_train should be a pd.Series\"\n",
    "\n",
    "del stu_ans\n",
    "del df"
   ]
  },
  {
   "cell_type": "markdown",
   "metadata": {
    "deletable": false,
    "editable": false,
    "nbgrader": {
     "cell_type": "markdown",
     "checksum": "c1971f4761e91c6750159276bc54449a",
     "grade": false,
     "grade_id": "cell-fca36043345da8b5",
     "locked": true,
     "schema_version": 3,
     "solution": false,
     "task": false
    }
   },
   "source": [
    "## Question 3  (5 Points)\n",
    "### Build a baseline Tree model\n",
    "- Complete the following function that will establish a baseline score.  \n",
    "  - This function should retrieve and split the sensor data based on your previously constructed functions. Please use/default to, a split value of 0.2.  \n",
    "  - Using a _for loop_ or [list comprehension](https://www.w3schools.com/python/python_lists_comprehension.asp), extract a list of feature names that includes the substring **base_feature_selector** defined in the **[library imports](#library-imports)** cell above.  \n",
    "  - Create a [DecisionTreeClassifier](https://scikit-learn.org/0.24/modules/generated/sklearn.tree.DecisionTreeClassifier.html#sklearn.tree.DecisionTreeClassifier) with default hyperparameters and the predetermined random_state value.\n",
    "    - Train this model on the features as extracted above.  \n",
    "  - Using the classifier's [score method](https://scikit-learn.org/0.24/modules/generated/sklearn.tree.DecisionTreeClassifier.html#sklearn.tree.DecisionTreeClassifier.score), score the model using X_test and the previously extracted subset of features.  \n",
    "  - Finally return a tuple consisting of the list of extracted features and score.  "
   ]
  },
  {
   "cell_type": "code",
   "execution_count": 12,
   "metadata": {},
   "outputs": [],
   "source": [
    "df = pd.read_csv(\"assets/sensor_data.csv\")\n",
    "dic1 = {'neutral':1, 'emotional':2, 'mental':3, 'physical':4}\n",
    "\n",
    "df[\"Activity_Label\"] = df[\"Activity_Label\"].map(dic1)\n",
    "X = df.iloc[:,2:]\n",
    "y = df['Activity_Label']\n",
    "X_train, X_test, y_train, y_test = train_test_split(X,y, test_size=.2, random_state=42)"
   ]
  },
  {
   "cell_type": "code",
   "execution_count": 13,
   "metadata": {},
   "outputs": [],
   "source": [
    "features = [i for i in df.columns if base_feature_selector in i]\n",
    "X_train = X_train[features]\n",
    "X_test = X_test[features]"
   ]
  },
  {
   "cell_type": "code",
   "execution_count": 75,
   "metadata": {},
   "outputs": [
    {
     "data": {
      "text/plain": [
       "0.4642857142857143"
      ]
     },
     "execution_count": 75,
     "metadata": {},
     "output_type": "execute_result"
    }
   ],
   "source": [
    "from sklearn.tree import DecisionTreeClassifier\n",
    "clf = DecisionTreeClassifier(random_state=42)\n",
    "clf.fit(X_train, y_train)\n",
    "# y_pred = clf.predict(X_test)\n",
    "clf.score(X_test, y_test)"
   ]
  },
  {
   "cell_type": "code",
   "execution_count": 15,
   "metadata": {
    "deletable": false,
    "nbgrader": {
     "cell_type": "code",
     "checksum": "45636a0e541b1b49ca824a8fc7ca5e3b",
     "grade": false,
     "grade_id": "cell-d0e06f1c335ec617",
     "locked": false,
     "schema_version": 3,
     "solution": true,
     "task": false
    }
   },
   "outputs": [],
   "source": [
    "def baseline_model_one():\n",
    "    score = None\n",
    "    feature_selector = base_feature_selector\n",
    "\n",
    "    # YOUR CODE HERE\n",
    "#     raise NotImplementedError()\n",
    "    df = get_sensor_data()\n",
    "    X_train, X_test, y_train, y_test = std_train_test_split(df, test_split=0.2)\n",
    "    features = [i for i in df.columns if base_feature_selector in i]\n",
    "    X_train = X_train[features]\n",
    "    X_test = X_test[features]\n",
    "\n",
    "\n",
    "    clf = DecisionTreeClassifier(random_state=42)\n",
    "\n",
    "    clf = clf.fit(X_train, y_train)\n",
    "\n",
    "    y_pred = clf.predict(X_test)\n",
    "\n",
    "    score = clf.score(X_test, y_test)\n",
    "\n",
    "    return (features, score)"
   ]
  },
  {
   "cell_type": "code",
   "execution_count": 74,
   "metadata": {},
   "outputs": [],
   "source": [
    "# # use this cell to observe your results\n",
    "# # remember to comment the function call before submitting the notebook\n",
    "\n",
    "# baseline_model_one()"
   ]
  },
  {
   "cell_type": "code",
   "execution_count": 17,
   "metadata": {
    "deletable": false,
    "editable": false,
    "nbgrader": {
     "cell_type": "code",
     "checksum": "ca949428689f20d76a58984401332e4a",
     "grade": true,
     "grade_id": "cell-3a13464f8906cbe6",
     "locked": true,
     "points": 5,
     "schema_version": 3,
     "solution": false,
     "task": false
    }
   },
   "outputs": [],
   "source": [
    "# Autograder tests\n",
    "\n",
    "stu_ans = baseline_model_one()\n",
    "\n",
    "assert isinstance(stu_ans, tuple), \"Q3: Your function should return a tuple.\"\n",
    "\n",
    "assert isinstance(stu_ans[0], list), \"Q3: Tuple element zero should be a list object.\"\n",
    "\n",
    "assert isinstance(\n",
    "    stu_ans[1], np.float64\n",
    "), \"Q3: Tuple element one should be a np.float64 value.\"\n",
    "\n",
    "del stu_ans"
   ]
  },
  {
   "cell_type": "markdown",
   "metadata": {
    "deletable": false,
    "editable": false,
    "nbgrader": {
     "cell_type": "markdown",
     "checksum": "93d0b14658068d7e22d698cfb42dcf75",
     "grade": false,
     "grade_id": "cell-3cdcaa635d0d50b5",
     "locked": true,
     "schema_version": 3,
     "solution": false,
     "task": false
    }
   },
   "source": [
    "## Question 4  (3 Points)\n",
    "### Baseline Tree model questions\n",
    "1. Does the default accuracy score returned by the model seem reasonable to you; why or why not?\n",
    "2. What might be the problem with this model or with the data?"
   ]
  },
  {
   "cell_type": "markdown",
   "metadata": {
    "deletable": false,
    "nbgrader": {
     "cell_type": "markdown",
     "checksum": "2dbe07b3481fb5120d11957b6db24684",
     "grade": true,
     "grade_id": "cell-63d35379db6841e9",
     "locked": false,
     "points": 0,
     "schema_version": 3,
     "solution": true,
     "task": false
    }
   },
   "source": [
    "1. Yes, the model accuracy of 0.83 looks good, given that there are 4 classes to predict the obtained accuracy is not bad\n",
    "\n",
    "2. Decision Trees are prone to overfitting and this may also be the issue here."
   ]
  },
  {
   "cell_type": "markdown",
   "metadata": {
    "deletable": false,
    "editable": false,
    "nbgrader": {
     "cell_type": "markdown",
     "checksum": "ad777f8cf7d88062a62a3cd6bdddb614",
     "grade": false,
     "grade_id": "cell-6c9f9019196beec7",
     "locked": true,
     "schema_version": 3,
     "solution": false,
     "task": false
    }
   },
   "source": [
    "## Question 5  (10 Points)\n",
    "### A custom train_test_split function\n",
    " - Because of the nature of the original experiment's data collection methodology, the standard sklearn train_test_split() method cannot be applied successfully to this dataset. \n",
    " - The first significant task will be to create a 'custom_train_test_split()' function that will correctly separate train data from test data, given the structure of the data in the sensor dataset.  \n",
    " - Your function should accept two arguments:  \n",
    "   - A Pandas DataFrame such as returned by your get_sensor_data() function.\n",
    "   - An integer ___or___ float value that indicates the count or proportion of the **test** data split.\n",
    "   - In accordance with SciKit-Learn standards, split count determinations should round up.\n",
    "   - Again, any random_state or seed values should be initialized with an integer value of 42.\n",
    " - Helpful Libraries and functions:\n",
    "   - [numpy.random](https://numpy.org/doc/stable/reference/random/index.html)\n",
    "     - numpy.random.seed()\n",
    "     - numpy.random.choice()\n",
    "   - Python [math](https://docs.python.org/3/library/math.html)  \n",
    "     - math.ceil()  \n",
    "  \n",
    " - Questions to keep in mind while creating this function:\n",
    "   - How might this function accept and use an integer or float value for the purpose of dividing the dataset?\n",
    "   - How do I ensure consistent random selection for reproducibility?\n",
    "   - Most importantly, how do I split this data to avoid one of the more devastating issues in machine learning?"
   ]
  },
  {
   "cell_type": "code",
   "execution_count": 18,
   "metadata": {},
   "outputs": [],
   "source": [
    "# def custom_train_test_split(df, test_split):\n",
    "# #     features = [i for i in df.columns if base_feature_selector in i]\n",
    "#     np.random.seed(42)\n",
    "#     df['id'] = df.index\n",
    "#     len_subject = df.groupby(['Subject_ID'])['Subject_ID'].count()[0]\n",
    "#     df[\"id\"] = df[\"id\"].astype(str) + df['Subject_ID']\n",
    "\n",
    "#     if isinstance(test_split, float):\n",
    "#         test_len = math.ceil(len_subject*test_split)\n",
    "#         train_len = len_subject - test_len\n",
    "#     else:\n",
    "#         test_len = math.ceil(test_split)\n",
    "#         train_len = len_subject - test_len\n",
    "\n",
    "#     dic_df = {}\n",
    "#     for id in df['Subject_ID'].unique():\n",
    "#         dic_df[id] = df[df['Subject_ID'] == id].sample(n = train_len)\n",
    "\n",
    "#     tr = pd.concat([dic_df[k] for k in dic_df.keys()], axis = 0)\n",
    "\n",
    "\n",
    "#     ts = df[~df['id'].isin(tr['id'].unique())]\n",
    "#     tr = tr.drop(['id'], axis=1)\n",
    "#     ts = ts.drop(['id'], axis=1)\n",
    "#     X_train = tr.iloc[:,2:] #[features]\n",
    "#     y_train = tr['Activity_Label']\n",
    "#     X_test = ts.iloc[:,2:] #[features]\n",
    "#     y_test = ts['Activity_Label']\n",
    "\n",
    "#     return X_train, X_test, y_train, y_test"
   ]
  },
  {
   "cell_type": "code",
   "execution_count": 19,
   "metadata": {},
   "outputs": [],
   "source": [
    "# df = get_sensor_data()\n",
    "# df.iloc[:,[0,2:]]"
   ]
  },
  {
   "cell_type": "code",
   "execution_count": 20,
   "metadata": {
    "deletable": false,
    "nbgrader": {
     "cell_type": "code",
     "checksum": "f230528117213c81a6b2fd13d6b2160b",
     "grade": false,
     "grade_id": "cell-1618476de514a891",
     "locked": false,
     "schema_version": 3,
     "solution": true,
     "task": false
    }
   },
   "outputs": [],
   "source": [
    "def custom_train_test_split(df, test_split = 0.2):\n",
    "    X_train, X_test, y_train, y_test = (None,) * 4\n",
    "\n",
    "    # YOUR CODE HERE\n",
    "#     raise NotImplementedError()\n",
    "    np.random.seed(42)\n",
    "    if isinstance(test_split, float):\n",
    "        test_len = math.ceil(df['Subject_ID'].nunique()*test_split)\n",
    "        \n",
    "        train_len = df['Subject_ID'].nunique() - test_len\n",
    "    else:\n",
    "        test_len = math.ceil(test_split)\n",
    "        train_len = df['Subject_ID'].nunique() - test_len\n",
    "#     else:\n",
    "#         test_len = int((test_split/(test_split + 1))*df['Subject_ID'].nunique())\n",
    "#         train_len = int(df['Subject_ID'].nunique() - test_len)\n",
    "    train_subjects = list(np.random.choice(df['Subject_ID'].unique(), size=train_len, replace=False))\n",
    "    X_train= df[df['Subject_ID'].isin(train_subjects)].loc[:, df.columns != 'Activity_Label'].reset_index(drop=True)\n",
    "    X_test= df[~df['Subject_ID'].isin(train_subjects)].loc[:, df.columns != 'Activity_Label'].reset_index(drop=True)\n",
    "    y_train = df[df['Subject_ID'].isin(train_subjects)].reset_index(drop=True)\n",
    "    y_train = y_train['Activity_Label']\n",
    "    y_test = df[~df['Subject_ID'].isin(train_subjects)].reset_index(drop=True)\n",
    "    y_test = y_test['Activity_Label']\n",
    "\n",
    "    return X_train, X_test, y_train, y_test"
   ]
  },
  {
   "cell_type": "code",
   "execution_count": 21,
   "metadata": {},
   "outputs": [],
   "source": [
    "## use this cell to explore your solution\n",
    "## remember to comment the following code before submitting the notebook\n",
    "\n",
    "\n",
    "def test_my_code():\n",
    "    test_split = 5\n",
    "    df = get_sensor_data()\n",
    "\n",
    "    X_train, X_test, y_train, y_test = custom_train_test_split(\n",
    "        df, test_split=test_split\n",
    "    )\n",
    "\n",
    "    print(f\"{df.shape[0]}, {X_train.shape[0]}, {X_test.shape[0]}\")\n",
    "\n",
    "    # insert additional code as necessary to complete your testing\n",
    "\n",
    "    return\n",
    "\n",
    "\n",
    "# test_my_code()"
   ]
  },
  {
   "cell_type": "code",
   "execution_count": 22,
   "metadata": {
    "deletable": false,
    "editable": false,
    "nbgrader": {
     "cell_type": "code",
     "checksum": "e0973d90c47e2dd76011a03f0fc0b40e",
     "grade": true,
     "grade_id": "cell-2c97a65714518e45",
     "locked": true,
     "points": 10,
     "schema_version": 3,
     "solution": false,
     "task": false
    }
   },
   "outputs": [],
   "source": [
    "# Autograder tests\n",
    "\n",
    "test_split = 5\n",
    "df = get_sensor_data()\n",
    "stu_ans = custom_train_test_split(df, test_split)\n",
    "\n",
    "assert isinstance(stu_ans[0], pd.DataFrame), \"Q4: X_train should be a pd.DataFrame\"\n",
    "assert isinstance(stu_ans[2], pd.Series), \"Q4: y_train should be a pd.Series\"\n",
    "\n",
    "del stu_ans"
   ]
  },
  {
   "cell_type": "markdown",
   "metadata": {
    "deletable": false,
    "editable": false,
    "nbgrader": {
     "cell_type": "markdown",
     "checksum": "1117fc11e889658359c54e46af3b93d1",
     "grade": false,
     "grade_id": "cell-7bdfb63c135245d2",
     "locked": true,
     "schema_version": 3,
     "solution": false,
     "task": false
    }
   },
   "source": [
    "## Question 5, Part 2\n",
    "### Run a baseline_model using your custom data splitter\n",
    "- Copy/Paste your baseline model code from above into the function below.  \n",
    "  - Replace the std_train_test_split() function with your new custom_train_test_split().\n",
    "    - Use the default split of 0.2.\n",
    "  - Run this revised function and answer the questions below.  "
   ]
  },
  {
   "cell_type": "code",
   "execution_count": 23,
   "metadata": {
    "deletable": false,
    "nbgrader": {
     "cell_type": "code",
     "checksum": "a6e7bbc7d2708012535b5a24edaf3272",
     "grade": false,
     "grade_id": "cell-f837ef40fcc382ee",
     "locked": false,
     "schema_version": 3,
     "solution": true,
     "task": false
    }
   },
   "outputs": [],
   "source": [
    "def baseline_model_two():\n",
    "    features, score = None, None\n",
    "    feature_selector = base_feature_selector\n",
    "\n",
    "    # YOUR CODE HERE\n",
    "#     raise NotImplementedError()\n",
    "    df = get_sensor_data()\n",
    "    X_train, X_test, y_train, y_test = custom_train_test_split(df, test_split=0.2)\n",
    "    features = [i for i in df.columns if base_feature_selector in i]\n",
    "    X_train = X_train[features]\n",
    "    X_test = X_test[features]\n",
    "\n",
    "\n",
    "    clf = DecisionTreeClassifier(random_state=42)\n",
    "\n",
    "    clf = clf.fit(X_train, y_train)\n",
    "\n",
    "    y_pred = clf.predict(X_test)\n",
    "\n",
    "    score = clf.score(X_test, y_test)\n",
    "\n",
    "    return (features, score)"
   ]
  },
  {
   "cell_type": "code",
   "execution_count": 24,
   "metadata": {},
   "outputs": [],
   "source": [
    "# # examine your new baseline_model() here\n",
    "# # remember to comment the function call before submitting the notebook\n",
    "\n",
    "# baseline_model_two()"
   ]
  },
  {
   "cell_type": "code",
   "execution_count": 25,
   "metadata": {
    "deletable": false,
    "editable": false,
    "nbgrader": {
     "cell_type": "code",
     "checksum": "35b402e5ada7a1bf126323f57ed23fcc",
     "grade": true,
     "grade_id": "cell-72944b90c520abfe",
     "locked": true,
     "points": 0,
     "schema_version": 3,
     "solution": false,
     "task": false
    }
   },
   "outputs": [],
   "source": [
    "# Autograder tests\n",
    "\n",
    "stu_ans = baseline_model_two()\n",
    "\n",
    "assert isinstance(stu_ans, tuple), \"Q5: Your function should return a tuple.\"\n",
    "\n",
    "assert isinstance(stu_ans[0], list), \"Q5: Tuple element zero should be a list object.\"\n",
    "\n",
    "assert isinstance(\n",
    "    stu_ans[1], np.float64\n",
    "), \"Q5: Tuple element one should be a np.float64 value.\"\n",
    "\n",
    "del stu_ans"
   ]
  },
  {
   "cell_type": "markdown",
   "metadata": {
    "deletable": false,
    "editable": false,
    "nbgrader": {
     "cell_type": "markdown",
     "checksum": "7938f4f0dc2ddef3a545a3f0113ab5f1",
     "grade": false,
     "grade_id": "cell-21809bc2608e0994",
     "locked": true,
     "schema_version": 3,
     "solution": false,
     "task": false
    }
   },
   "source": [
    "## Question 6  (2 Points)\n",
    "### Custom train/test split questions\n",
    "1. Is the score of the model that incorporates custom_train_test_split() significantly different from the std_train_test_split() version?  \n",
    "2. What issue(s) have we eliminated with our new custom_train_test_split() function?"
   ]
  },
  {
   "cell_type": "markdown",
   "metadata": {
    "deletable": false,
    "nbgrader": {
     "cell_type": "markdown",
     "checksum": "c97c9a253e5e8eec91e31911e863cd57",
     "grade": true,
     "grade_id": "cell-175bb32a2a2293c4",
     "locked": false,
     "points": 0,
     "schema_version": 3,
     "solution": true,
     "task": false
    }
   },
   "source": [
    "1. The score is not significantly different\n",
    "2. However we have not made sure that each subject has an equal representation in the train as well as in the test dataset.The custom split will help model learn the pattern better"
   ]
  },
  {
   "cell_type": "markdown",
   "metadata": {
    "deletable": false,
    "editable": false,
    "nbgrader": {
     "cell_type": "markdown",
     "checksum": "f897f7a3303926fd384f395925a77478",
     "grade": false,
     "grade_id": "cell-2e0f6b0e6c8930f2",
     "locked": true,
     "schema_version": 3,
     "solution": false,
     "task": false
    }
   },
   "source": [
    "## Question 7  (5 Points)\n",
    "### Confusion Matrix\n",
    " - We now want to better understand the relationship of correct and incorrect predictons made by a classification model. A very useful tool for examining a multiclass outcome, such as we have with our sensor dataset, is the [Confusion Matrix](https://scikit-learn.org/0.24/modules/generated/sklearn.metrics.confusion_matrix.html#sklearn.metrics.confusion_matrix)\n",
    " - Using the SciKit-Learn [LogisticRegression](https://scikit-learn.org/0.24/modules/generated/sklearn.linear_model.LogisticRegression.html#sklearn.linear_model.LogisticRegression) model, create a function that returns a Confusion Matrix.\n",
    "   - Your function should accept zero arguments.  \n",
    "   - Set hyperparameter: max_iter=1000\n",
    "   - Any random_state or seed values should be initialized with an integer value of 42.\n",
    " - Use your previously defined functions to derive your train and test sets.\n",
    " - Scaling is an important factor in many Machine Learning projects (See section 3.3 in the course textbook). For the current dataset, use the sklearn method StandardScaler() to scale the train and test sets.\n",
    " - Using code that you had previously developed, include all features who's name includes the substring defined in \n",
    "**base_feature_selector** ([library imports](#library-imports)).\n",
    "- Your function should return the following tuple:  \n",
    "   - The confusion matrix array as returned by the sklean method confusion_matrix().  "
   ]
  },
  {
   "cell_type": "code",
   "execution_count": 26,
   "metadata": {
    "deletable": false,
    "nbgrader": {
     "cell_type": "code",
     "checksum": "019d2231e3c0bcb27be3951b3a933d23",
     "grade": false,
     "grade_id": "cell-02b6f1ff73a7c6a8",
     "locked": false,
     "schema_version": 3,
     "solution": true,
     "task": false
    }
   },
   "outputs": [],
   "source": [
    "from sklearn.linear_model import LogisticRegression as LR\n",
    "\n",
    "\n",
    "# YOUR CODE HERE\n",
    "# raise NotImplementedError()\n",
    "\n",
    "\n",
    "def LR_confusion_matrix():\n",
    "    \n",
    "    from sklearn.preprocessing import StandardScaler\n",
    "    conf_matrix = None\n",
    "    feature_selector = base_feature_selector\n",
    "    df = get_sensor_data()\n",
    "    features = [i for i in df.columns if feature_selector in i]\n",
    "\n",
    "    # YOUR CODE HERE\n",
    "#     raise NotImplementedError()\n",
    "    from sklearn.metrics import confusion_matrix\n",
    "    X_train, X_test, y_train, y_test = custom_train_test_split(df, test_split=0.2)\n",
    "    X_train = X_train[features]\n",
    "    X_test = X_test[features]\n",
    "    scaler = StandardScaler()\n",
    "    scaler.fit(X_train)\n",
    "    X_train = scaler.transform(X_train)\n",
    "    X_test = scaler.transform(X_test)\n",
    "    clf = LR(random_state=42,max_iter=1000)\n",
    "    clf.fit(X_train, y_train)\n",
    "    y_pred = clf.predict(X_test)\n",
    "    conf_matrix = confusion_matrix(y_test,y_pred)\n",
    "\n",
    "    return conf_matrix"
   ]
  },
  {
   "cell_type": "code",
   "execution_count": 27,
   "metadata": {},
   "outputs": [],
   "source": [
    "# # use this cell to explore your solution\n",
    "# # remember to comment the function call before submitting the notebook\n",
    "\n",
    "# LR_confusion_matrix()"
   ]
  },
  {
   "cell_type": "code",
   "execution_count": 28,
   "metadata": {
    "deletable": false,
    "editable": false,
    "nbgrader": {
     "cell_type": "code",
     "checksum": "971a142669c182f79a601b7608d981ed",
     "grade": true,
     "grade_id": "cell-9ce7903f9c06f5f5",
     "locked": true,
     "points": 5,
     "schema_version": 3,
     "solution": false,
     "task": false
    }
   },
   "outputs": [],
   "source": [
    "# Autograder tests\n",
    "\n",
    "stu_ans = LR_confusion_matrix()\n",
    "\n",
    "assert isinstance(\n",
    "    stu_ans, np.ndarray\n",
    "), \"Q7: The second tuple element should be an np.ndarray\"\n",
    "\n",
    "del stu_ans"
   ]
  },
  {
   "cell_type": "markdown",
   "metadata": {
    "deletable": false,
    "editable": false,
    "nbgrader": {
     "cell_type": "markdown",
     "checksum": "bc90b6ed8fc517f04eab3bafc225f48d",
     "grade": false,
     "grade_id": "cell-4c32db5c2bff0137",
     "locked": true,
     "schema_version": 3,
     "solution": false,
     "task": false
    }
   },
   "source": [
    "### Visualizing the Confusion Matrix"
   ]
  },
  {
   "cell_type": "code",
   "execution_count": 29,
   "metadata": {},
   "outputs": [
    {
     "data": {
      "text/plain": [
       "([<matplotlib.axis.YTick at 0x74a71a73cbe0>,\n",
       "  <matplotlib.axis.YTick at 0x74a71a73c580>,\n",
       "  <matplotlib.axis.YTick at 0x74a71a7809d0>,\n",
       "  <matplotlib.axis.YTick at 0x74a71a6fd850>],\n",
       " [Text(0, 0, 'c1'), Text(0, 1, 'c2'), Text(0, 2, 'c3'), Text(0, 3, 'c4')])"
      ]
     },
     "execution_count": 29,
     "metadata": {},
     "output_type": "execute_result"
    },
    {
     "data": {
      "image/png": "[encoded data removed]",
      "text/plain": [
       "<Figure size 432x288 with 1 Axes>"
      ]
     },
     "metadata": {
      "needs_background": "light"
     },
     "output_type": "display_data"
    }
   ],
   "source": [
    "cm = LR_confusion_matrix()\n",
    "plt.imshow(cm)\n",
    "plt.title(\"Confusion\")\n",
    "tick_marks = np.arange(4)\n",
    "plt.xticks(tick_marks, ['c1','c2','c3','c4'], rotation=45)\n",
    "plt.yticks(tick_marks, ['c1','c2','c3','c4'])"
   ]
  },
  {
   "cell_type": "code",
   "execution_count": 30,
   "metadata": {
    "deletable": false,
    "editable": false,
    "nbgrader": {
     "cell_type": "code",
     "checksum": "b8e666ad0ca9607d5bf7f7e7f59d246b",
     "grade": false,
     "grade_id": "cell-740465ee9e481736",
     "locked": true,
     "schema_version": 3,
     "solution": false,
     "task": false
    }
   },
   "outputs": [],
   "source": [
    "def plot_confusion():\n",
    "    cm = LR_confusion_matrix()\n",
    "    labels = {\"neutral\": 1, \"emotional\": 2, \"mental\": 3, \"physical\": 4}.keys()\n",
    "    display_cm = ConfusionMatrixDisplay(confusion_matrix=cm, display_labels=labels)\n",
    "    display_cm.plot()\n",
    "    plt.show()"
   ]
  },
  {
   "cell_type": "code",
   "execution_count": 31,
   "metadata": {},
   "outputs": [],
   "source": [
    "# # view your confusion matrix here\n",
    "# # remember to comment the function call before submitting to the autograder\n",
    "\n",
    "# plot_confusion()"
   ]
  },
  {
   "cell_type": "markdown",
   "metadata": {
    "deletable": false,
    "editable": false,
    "nbgrader": {
     "cell_type": "markdown",
     "checksum": "9e3f773861d3f3d086709e25b2e476fd",
     "grade": false,
     "grade_id": "cell-3a8431087ad8d20c",
     "locked": true,
     "schema_version": 3,
     "solution": false,
     "task": false
    },
    "slideshow": {
     "slide_type": "subslide"
    }
   },
   "source": [
    "## Question 8  (5 Points)\n",
    "### Basic Confusion Matrix Understanding\n",
    " - Answer the following questions concerning the above Confusion Matrix.  \n",
    " - Record (hardcode) your answers in the answer variables in the cell below for autograding purposes.  \n",
    " - Your answers should use the Python types **int**, **float**, or **str** as appropriate.\n",
    " \n",
    "Q1. What is the number of __Correctly Predicted__ for the _mental_ activity?  \n",
    "Q2. How many __False Positive__ predictions were made for the _neutral_ activity?  \n",
    "Q3. How many __False Negative__ predictions were made for the _physical_ activity?  \n",
    "Q4. What is the __Precision__ Score for the _mental_ activity? (round to three decimal places)  \n",
    "Q5. What is the __Recall__ Score for the _emotional_ activity? (round to three decimal places)  \n",
    "Q6. What is the overall __Accuracy__ for the current model? (round to three decimal places)  \n",
    "Q7. Which activity is most confused for _mental_ activity when not?"
   ]
  },
  {
   "cell_type": "code",
   "execution_count": 32,
   "metadata": {
    "deletable": false,
    "nbgrader": {
     "cell_type": "code",
     "checksum": "64d2876958b357182000ecffd2c902ee",
     "grade": false,
     "grade_id": "cell-aa8a1e16f3e1108a",
     "locked": false,
     "schema_version": 3,
     "solution": true,
     "task": false
    }
   },
   "outputs": [],
   "source": [
    "###### Supply your answers to Q1 through Q7\n",
    "# in variables a1 through a7.\n",
    "\n",
    "a1 = 88\n",
    "a2 = 0\n",
    "a3 = 32\n",
    "a4 = np.round(88/248,3)\n",
    "a5 = np.round(86/224,3)\n",
    "a6 = np.round(460/896,3)\n",
    "a7 = \"emotional\"\n",
    "\n",
    "# YOUR CODE HERE\n",
    "# raise NotImplementedError()\n",
    "\n",
    "# YOUR CODE HERE\n",
    "# raise NotImplementedError()\n",
    "\n",
    "stu_ans = (a1, a2, a3, a4, a5, a6, a7)"
   ]
  },
  {
   "cell_type": "code",
   "execution_count": 33,
   "metadata": {
    "deletable": false,
    "editable": false,
    "nbgrader": {
     "cell_type": "code",
     "checksum": "0cf126236594f1f8b63abf1dbe466506",
     "grade": true,
     "grade_id": "cell-6c520b1fae9d0a50",
     "locked": true,
     "points": 5,
     "schema_version": 3,
     "solution": false,
     "task": false
    }
   },
   "outputs": [],
   "source": [
    "# Autograder tests\n",
    "\n",
    "assert (\n",
    "    len(stu_ans) == 7\n",
    "), \"Q8: Your answer tuple does not contain the correct number of answers.\"\n",
    "assert isinstance(stu_ans[0], int), \"Q8: Answer one should be an integer\"\n",
    "assert isinstance(stu_ans[1], int), \"Q8: Answer two should be an integer\"\n",
    "assert isinstance(stu_ans[2], int), \"Q8: Answer three should be an integer\"\n",
    "assert isinstance(stu_ans[3], float), \"Q8: Answer four should be a float\"\n",
    "assert isinstance(stu_ans[4], float), \"Q8: Answer five should be a float\"\n",
    "assert isinstance(stu_ans[5], float), \"Q8: Answer six should be a float\"\n",
    "assert isinstance(stu_ans[6], str), \"Q8: Answer seven should be a string\"\n",
    "\n",
    "del stu_ans"
   ]
  },
  {
   "cell_type": "markdown",
   "metadata": {
    "deletable": false,
    "editable": false,
    "nbgrader": {
     "cell_type": "markdown",
     "checksum": "a712696fa3a15efeae3e22251419927e",
     "grade": false,
     "grade_id": "cell-1aeefba857843791",
     "locked": true,
     "schema_version": 3,
     "solution": false,
     "task": false
    }
   },
   "source": [
    "## Question 9  (5 Points)\n",
    "### Feature Importance part 1\n",
    "#### Now we want to explore how some models are able to provide additional insight into the features that played a prominent role in the estimation outcome. \n",
    " - Produce a function that implements a RandomForestClassifier model, which includes the [**feature_importances_**](https://scikit-learn.org/0.24/modules/generated/sklearn.tree.DecisionTreeClassifier.html#sklearn.tree.DecisionTreeClassifier.feature_importances_) attribute.\n",
    "- The function accepts a single argument for the top X number of features, the default value will be 10.\n",
    "  - The classifier should use only two parameters:\n",
    "    - random_state=42\n",
    "    - n_jobs=-1\n",
    "- Use your previously defined functions to derive your train and test sets.\n",
    "- Using code that you had previously developed, include all features who's name includes the substring defined by **base_feature_selector** ([library imports](#library-imports)).\n",
    " - The function should return a tuple of two elements.\n",
    "   - The first element will be a **sorted** list of tuples in the form **\\[('feature_name', importance_value),...\\]**. The list of tuples should be sorted in descending order.\n",
    "     - This list of tuples should be sorted in **descending order** of feature_importance.\n",
    "   - The second element (test data score) should be an np.float64 value."
   ]
  },
  {
   "cell_type": "code",
   "execution_count": 34,
   "metadata": {
    "deletable": false,
    "nbgrader": {
     "cell_type": "code",
     "checksum": "7c720e8c74a6dea2ccee633e0265723f",
     "grade": false,
     "grade_id": "cell-ffe4926e6361f5fd",
     "locked": false,
     "schema_version": 3,
     "solution": true,
     "task": false
    }
   },
   "outputs": [],
   "source": [
    "def get_top_features(top=10):\n",
    "    top_x, score = None, None\n",
    "    feature_selector = base_feature_selector\n",
    "\n",
    "    # YOUR CODE HERE\n",
    "#     raise NotImplementedError()\n",
    "    df = get_sensor_data()\n",
    "    features = [i for i in df.columns if base_feature_selector in i]\n",
    "    X_train, X_test, y_train, y_test = custom_train_test_split(df, test_split=0.2)\n",
    "    X_train = X_train[features]\n",
    "    X_test = X_test[features]\n",
    "\n",
    "    from sklearn.ensemble import RandomForestClassifier\n",
    "    forest = RandomForestClassifier(random_state=42,n_jobs=-1)\n",
    "    forest.fit(X_train, y_train)\n",
    "    importances = forest.feature_importances_\n",
    "    forest_importances = pd.Series(importances, index=features)\n",
    "\n",
    "    res = forest_importances.sort_values(ascending=False)\n",
    "    top_x = list(zip(res.index, res))[:top]\n",
    "    score = forest.score(X_test,y_test)\n",
    "\n",
    "    return top_x, score"
   ]
  },
  {
   "cell_type": "code",
   "execution_count": 76,
   "metadata": {},
   "outputs": [
    {
     "data": {
      "text/plain": [
       "ECG_RR_window_trimmean25_17    0.270553\n",
       "EDA_processed_baseline_457     0.175775\n",
       "IT_VLF_baseline_262            0.160713\n",
       "IT_p_Total_baseline_318        0.159170\n",
       "IT_BR_mean_220                 0.134555\n",
       "dtype: float64"
      ]
     },
     "execution_count": 76,
     "metadata": {},
     "output_type": "execute_result"
    }
   ],
   "source": [
    "from sklearn.ensemble import RandomForestClassifier\n",
    "clf = RandomForestClassifier(random_state=42,n_jobs=-1)\n",
    "clf.fit(X_train, y_train)\n",
    "importances = clf.feature_importances_\n",
    "pd.Series(importances, index = features).sort_values(ascending = False)[:5]"
   ]
  },
  {
   "cell_type": "code",
   "execution_count": 36,
   "metadata": {},
   "outputs": [
    {
     "data": {
      "text/plain": [
       "([('IT_LF_mad_202', 0.1046594551941211),\n",
       "  ('IT_Original_mad_187', 0.10380850527780712),\n",
       "  ('IT_RF_mad_217', 0.07309347694568893),\n",
       "  ('ECG_original_mad_13', 0.06529065292145139),\n",
       "  ('ECG_amplitude_RR_mad_41', 0.057067224772680974),\n",
       "  ('IT_PSD_mad_247', 0.04299431626375826),\n",
       "  ('EDA_processed_mad_456', 0.04264439467106326),\n",
       "  ('IT_p_Total_mad_317', 0.04176940302253681),\n",
       "  ('ECG_RR_window_mad_27', 0.03872633528064848),\n",
       "  ('ECG_HR_min_div_mad_55', 0.037249695963102215)],\n",
       " 0.5725446428571429)"
      ]
     },
     "execution_count": 36,
     "metadata": {},
     "output_type": "execute_result"
    }
   ],
   "source": [
    "# # review your results here\n",
    "# # remember to comment the function call before submitting the notebook\n",
    "get_top_features()"
   ]
  },
  {
   "cell_type": "code",
   "execution_count": 37,
   "metadata": {
    "deletable": false,
    "editable": false,
    "nbgrader": {
     "cell_type": "code",
     "checksum": "d4ec8635146881be9f78aee493f1817a",
     "grade": true,
     "grade_id": "cell-b112a369a5bef4a9",
     "locked": true,
     "points": 5,
     "schema_version": 3,
     "solution": false,
     "task": false
    }
   },
   "outputs": [],
   "source": [
    "# Autograder tests\n",
    "\n",
    "stu_ans = get_top_features()\n",
    "\n",
    "assert (\n",
    "    len(stu_ans) == 2\n",
    "), \"Q9: Your answer tuple does not contain the correct number of elements.\"\n",
    "\n",
    "assert isinstance(stu_ans[0], list), \"Q9: The first tuple element should be a list\"\n",
    "\n",
    "assert len(stu_ans[0]) == 10, \"Q9: The default number of top features is not correct.\"\n",
    "\n",
    "assert isinstance(\n",
    "    stu_ans[1], np.float64\n",
    "), \"Q9: get_top_features() second return element should be an np.float64.\"\n",
    "\n",
    "del stu_ans\n"
   ]
  },
  {
   "cell_type": "markdown",
   "metadata": {
    "deletable": false,
    "editable": false,
    "nbgrader": {
     "cell_type": "markdown",
     "checksum": "aab0db2fca3608134f1de4df4e532238",
     "grade": false,
     "grade_id": "cell-0562af8e13d94e4e",
     "locked": true,
     "schema_version": 3,
     "solution": false,
     "task": false
    }
   },
   "source": [
    "## Question 10  (10 Points)\n",
    "### Feature Importance part 2\n",
    "#### The value of Feature Importance \n",
    "- This follow-on question will use the same **RandomForestClassifier** model as in your get_top_features() function.\n",
    "- The new model will use a portion of the output returned by the get_top_features() function.\n",
    "- Use the previously defined functions to derive your train and test datasets.\n",
    "- Create a loop that trains your model with an incrementally increasing number of features from the top features list.\n",
    "  - The first pass will include the topmost important feature, the second pass will include the top two most important features and so on until the final pass of all top X features.\n",
    "- Your function should return a list of feature-based test data scores produced by the model."
   ]
  },
  {
   "cell_type": "code",
   "execution_count": 38,
   "metadata": {
    "deletable": false,
    "nbgrader": {
     "cell_type": "code",
     "checksum": "c60dd666af9160639df3e8dfbb0461e2",
     "grade": false,
     "grade_id": "cell-61533567ca475486",
     "locked": false,
     "schema_version": 3,
     "solution": true,
     "task": false
    }
   },
   "outputs": [],
   "source": [
    "def score_top_features(top=10):\n",
    "\n",
    "    scores = []\n",
    "\n",
    "    # YOUR CODE HERE\n",
    "#     raise NotImplementedError()\n",
    "    from sklearn.ensemble import RandomForestClassifier\n",
    "    df = get_sensor_data()\n",
    "    scores = []\n",
    "    dic_feat = {}\n",
    "    for i in range(1, top+1):\n",
    "        dic_feat[i] = [x for (x, y) in get_top_features()[0][:i]]\n",
    "        X_train, X_test, y_train, y_test = custom_train_test_split(df, test_split=0.2)\n",
    "        X_train = X_train[dic_feat[i]]\n",
    "        X_test = X_test[dic_feat[i]]\n",
    "        forest = RandomForestClassifier(random_state=42,n_jobs=-1)\n",
    "        forest.fit(X_train, y_train)\n",
    "        scores.append(forest.score(X_test,y_test))\n",
    "\n",
    "    return scores"
   ]
  },
  {
   "cell_type": "code",
   "execution_count": 39,
   "metadata": {},
   "outputs": [
    {
     "data": {
      "text/plain": [
       "[0.3984375,\n",
       " 0.44419642857142855,\n",
       " 0.4654017857142857,\n",
       " 0.4419642857142857,\n",
       " 0.45424107142857145,\n",
       " 0.5502232142857143,\n",
       " 0.5591517857142857,\n",
       " 0.5792410714285714,\n",
       " 0.5881696428571429,\n",
       " 0.6216517857142857]"
      ]
     },
     "execution_count": 39,
     "metadata": {},
     "output_type": "execute_result"
    }
   ],
   "source": [
    "# review your top features results here\n",
    "# remember to comment the function call before submitting the notebook\n",
    "\n",
    "score_top_features()"
   ]
  },
  {
   "cell_type": "code",
   "execution_count": 40,
   "metadata": {
    "deletable": false,
    "editable": false,
    "nbgrader": {
     "cell_type": "code",
     "checksum": "08558c7df20da2d92a12150be64857c1",
     "grade": true,
     "grade_id": "cell-bbade458d0c15e25",
     "locked": true,
     "points": 10,
     "schema_version": 3,
     "solution": false,
     "task": false
    }
   },
   "outputs": [],
   "source": [
    "# Autograder tests\n",
    "\n",
    "top = 10\n",
    "stu_ans = score_top_features(top)\n",
    "\n",
    "assert (\n",
    "    len(stu_ans) == top\n",
    "), \"Q10: Your function does not return the correct number of scores.\"\n",
    "\n",
    "assert all(\n",
    "    isinstance(x, np.float64) for x in stu_ans\n",
    "), \"Q10: One or more of the returned scores is of an incorrect type.\"\n",
    "\n",
    "del stu_ans"
   ]
  },
  {
   "cell_type": "markdown",
   "metadata": {
    "deletable": false,
    "editable": false,
    "nbgrader": {
     "cell_type": "markdown",
     "checksum": "89cc3781dee9406262f4c94f6579009b",
     "grade": false,
     "grade_id": "cell-394cc694e2554086",
     "locked": true,
     "schema_version": 3,
     "solution": false,
     "task": false
    }
   },
   "source": [
    "## Scores Plot\n",
    "The plot_scores() function accepts top X features argumnet which defaults to a value of 10. Feel free to change the argument to better see how accuracy is affected by the number of top features used to train the model."
   ]
  },
  {
   "cell_type": "code",
   "execution_count": 41,
   "metadata": {
    "deletable": false,
    "editable": false,
    "nbgrader": {
     "cell_type": "code",
     "checksum": "149bc8e99b66731b538ec3f9641b9f10",
     "grade": false,
     "grade_id": "cell-8fe2a304ac06b8b4",
     "locked": true,
     "schema_version": 3,
     "solution": false,
     "task": false
    }
   },
   "outputs": [],
   "source": [
    "def plot_scores(top=10):\n",
    "\n",
    "    if top > 29:\n",
    "        top = 29\n",
    "\n",
    "    top_x_features, score = get_top_features(top)\n",
    "    scores = score_top_features(top)\n",
    "\n",
    "    importance_scores = [score[1] for score in top_x_features]\n",
    "    x_axis = np.arange(1, len(scores) + 1)\n",
    "\n",
    "    plt.figure(figsize=(8, 6))\n",
    "\n",
    "    plt.xticks(x_axis)\n",
    "    plt.ylim([0, max(score, max(importance_scores)) + 0.05])\n",
    "    plt.xlabel(\"Number of Top 10 Features Used\")\n",
    "    plt.ylabel(\"Score Value\")\n",
    "    plt.grid(alpha=0.25)\n",
    "\n",
    "    plt.plot(x_axis, scores, label=\"Accuracy Score\", c=\"g\", linestyle=\"solid\")\n",
    "\n",
    "    plt.plot(\n",
    "        x_axis,\n",
    "        importance_scores,\n",
    "        label=\"Feature Importance Scores\",\n",
    "        c=\"r\",\n",
    "        linestyle=\"solid\",\n",
    "    )\n",
    "\n",
    "    plt.axhline(\n",
    "        score,\n",
    "        label=f\"All '{base_feature_selector}' features score\",\n",
    "        c=\"b\",\n",
    "        linestyle=\"dashed\",\n",
    "    )\n",
    "\n",
    "    plt.legend()\n",
    "    plt.tight_layout()\n",
    "\n",
    "    return"
   ]
  },
  {
   "cell_type": "code",
   "execution_count": 42,
   "metadata": {},
   "outputs": [
    {
     "data": {
      "image/png": "[encoded data removed]",
      "text/plain": [
       "<Figure size 576x432 with 1 Axes>"
      ]
     },
     "metadata": {
      "needs_background": "light"
     },
     "output_type": "display_data"
    }
   ],
   "source": [
    "# Plot accuracy vs feature importance\n",
    "# the plot_scores() function will accept a\n",
    "# remember to comment the function call before submitting the notebook\n",
    "\n",
    "plot_scores()"
   ]
  },
  {
   "cell_type": "markdown",
   "metadata": {
    "deletable": false,
    "editable": false,
    "nbgrader": {
     "cell_type": "markdown",
     "checksum": "48735e57990836244788501440628e19",
     "grade": false,
     "grade_id": "cell-4e84ab0e7aaf6f51",
     "locked": true,
     "schema_version": 3,
     "solution": false,
     "task": false
    }
   },
   "source": [
    "## Question 11  (50 Points)\n",
    "### Final project\n",
    "- The final question for this assignment is open-ended with only a few **constraints**. Using any of the Supervised Machine Learning techniques and models presented in this course, produce a model that produces a best-possible ROC-AUC score. Your Question 11 award points will be evaluated solely on this score. The primary constraint for this question is that you will be able to utilize not more than **10** of the 533 available data features in the training and scoring of your model. A quick calculation of the number of available combinations C(n, r) = C(533, 10) = $\\frac{n!}{r!(n-r)!}$ = 4.684e20. That is very large number of possible combinations (the number of permutations is even greater)! Because of the intractability of checking all possible 10-feature combinations, it will be necessary to devise a scheme whereby your algorithm makes a selection of features and scores that selection. Be creative but also efficient in your feature selection process. Because multiple feature selection cycles may be necessary, you will also need to develop an efficient method of keeping track of the top model, features, and score.  \n",
    "\n",
    "- Why would we want to limit the number of features? \n",
    "   1. The creator of the project may want to minimize the number of sensors/measurements required to move the project forward.\n",
    "   2. The final product will be used on a smartphone where resource consumption is always a concern.\n",
    "   3. Computational resource availability of the development environment could be constrained due to budget availability.\n",
    "   4. The development environment may be intentionally constrained to mimic the production environment.\n",
    "  \n",
    "- You will find that even with these limitations, some model choices will still consume significant resources, even to the point of crashing the Python kernel!  \n",
    "\n",
    "- The activity_model() function:\n",
    "  - Arguments: none\n",
    "  - Use your previously defined functions to derive your train and test sets.\n",
    "  - If feasible, expand upon your previously created feature selection code.\n",
    "  - Use the following parameters when establishing your [roc_auc_score](https://scikit-learn.org/0.24/modules/generated/sklearn.metrics.roc_auc_score.html#sklearn.metrics.roc_auc_score) method:\n",
    "    - average=\"macro\"\n",
    "    - multi_class=\"ovr\"\n",
    "  - return: a tuple consisting of (fit_model, feature_list, roc_auc_score)"
   ]
  },
  {
   "cell_type": "code",
   "execution_count": 43,
   "metadata": {},
   "outputs": [],
   "source": [
    "from sklearn.linear_model import LogisticRegression\n",
    "from sklearn.preprocessing import StandardScaler\n",
    "from sklearn.ensemble import RandomForestClassifier\n",
    "from sklearn.neural_network import MLPClassifier\n",
    "from sklearn.ensemble import GradientBoostingClassifier\n",
    "from sklearn.ensemble import AdaBoostClassifier\n",
    "from sklearn.naive_bayes import GaussianNB\n",
    "from sklearn.linear_model import RidgeClassifier\n",
    "# df = get_sensor_data()\n",
    "# X_train, X_test, y_train, y_test = custom_train_test_split(df, test_split=0.2)\n",
    "# roc_values = {}\n",
    "# from sklearn.linear_model import LogisticRegression\n",
    "# for feature in X_train.columns[1:]:\n",
    "#     clf = LogisticRegression(random_state=42)\n",
    "#     clf.fit(X_train[feature].values.reshape(-1,1), y_train)\n",
    "#     y_scored = clf.predict_proba(X_test[feature].values.reshape(-1,1))\n",
    "#     roc_values[feature] = roc_auc_score(y_test, y_scored, multi_class='ovr',average=\"macro\")\n",
    "# features = [k for (k, v) in sorted(roc_values.items(), key=lambda x: x[1], reverse=True)][:50]\n",
    "features1 = ['EDA_processed_baseline_457',\n",
    " 'IT_LF_baseline_276',\n",
    " 'IT_p_Total_baseline_318',\n",
    " 'IT_VLF_baseline_262',\n",
    " 'IT_MF_baseline_290',\n",
    " 'IT_RF_prctile75_214',\n",
    " 'ECG_hrv_max_73',\n",
    " 'IT_PSD_baseline_248',\n",
    " 'ECG_original_prctile75_10',\n",
    " 'IT_BR_mean_220',\n",
    " 'ECG_hrv_prctile75_76',\n",
    " 'IT_Original_prctile75_184',\n",
    " 'IT_LF_prctile75_199',\n",
    " 'ECG_hrv_mean_67',\n",
    " 'ECG_RR_window_geomean(abs)_25',\n",
    " 'ECG_hrv_trimmean25_69',\n",
    " 'ECG_HR_min_div_geomean(abs)_53',\n",
    " 'ECG_HR_min_div_harmmean_54',\n",
    " 'ECG_RR_window_trimmean25_17',\n",
    " 'ECG_RR_window_mean_15',\n",
    " 'ECG_hrv_median_70',\n",
    " 'ECG_RR_window_harmmean_26',\n",
    " 'ECG_HR_min_div_mean_43',\n",
    " 'ECG_hrv_geomean(abs)_77',\n",
    " 'ECG_HR_min_div_trimmean25_45',\n",
    " 'EDA_processed_geomean(abs)_454',\n",
    " 'IT_LF_std_191',\n",
    " 'EDA_processed_mad_456',\n",
    " 'IT_LF_mad_202',\n",
    " 'ECG_amplitude_RR_min_36',\n",
    " 'IT_Original_std_176',\n",
    " 'ECG_HR_min_div_prctile25_51',\n",
    " 'IT_RF_geomean(abs)_215',\n",
    " 'ECG_RR_window_prctile75_24',\n",
    " 'EDA_processed_prctile75_453',\n",
    " 'IT_LF_median_193',\n",
    " 'IT_Original_median_178',\n",
    " 'ECG_amplitude_RR_max_35',\n",
    " 'ECG_RR_window_min_22',\n",
    " 'IT_HF_baseline_304']"
   ]
  },
  {
   "cell_type": "code",
   "execution_count": 44,
   "metadata": {},
   "outputs": [],
   "source": [
    "f_dic = {}\n",
    "for i in features1[:]:\n",
    "    f_dic[i] = 0"
   ]
  },
  {
   "cell_type": "code",
   "execution_count": 45,
   "metadata": {},
   "outputs": [],
   "source": [
    "from sklearn.preprocessing import StandardScaler\n",
    "for j in range(0,2):\n",
    "    score = 0\n",
    "    counter = 0\n",
    "    track = {}\n",
    "    while counter <=5:\n",
    "        counter = counter +1\n",
    "        features = random.choices(features1[:], k=10)\n",
    "        X_train, X_test, y_train, y_test = custom_train_test_split(df, test_split=0.2)\n",
    "        X_train = X_train[features]\n",
    "        X_test = X_test[features]\n",
    "        scaler = StandardScaler()\n",
    "        scaler.fit(X_train)\n",
    "        X_train = scaler.transform(X_train)\n",
    "        X_test = scaler.transform(X_test)\n",
    "        #clf = LogisticRegression(random_state=42)\n",
    "        clf = LogisticRegression(random_state=42,penalty='l2')\n",
    "        clf.fit(X_train, y_train)\n",
    "        y_scored = clf.predict_proba(X_test)\n",
    "        model = clf\n",
    "        features = features\n",
    "        score = roc_auc_score(y_test, y_scored, multi_class='ovr',average=\"macro\")\n",
    "        track[score] = features\n",
    "    for el in track[max(track.keys())]:\n",
    "        f_dic[el] += 1 "
   ]
  },
  {
   "cell_type": "code",
   "execution_count": 46,
   "metadata": {},
   "outputs": [
    {
     "data": {
      "text/plain": [
       "[('IT_BR_mean_220', 2),\n",
       " ('ECG_hrv_mean_67', 2),\n",
       " ('IT_RF_geomean(abs)_215', 2),\n",
       " ('EDA_processed_baseline_457', 1),\n",
       " ('IT_VLF_baseline_262', 1),\n",
       " ('ECG_hrv_max_73', 1),\n",
       " ('ECG_hrv_prctile75_76', 1),\n",
       " ('IT_Original_prctile75_184', 1),\n",
       " ('ECG_RR_window_geomean(abs)_25', 1),\n",
       " ('ECG_HR_min_div_geomean(abs)_53', 1),\n",
       " ('ECG_HR_min_div_harmmean_54', 1),\n",
       " ('ECG_RR_window_harmmean_26', 1),\n",
       " ('EDA_processed_geomean(abs)_454', 1),\n",
       " ('EDA_processed_mad_456', 1),\n",
       " ('IT_LF_mad_202', 1),\n",
       " ('ECG_RR_window_min_22', 1),\n",
       " ('IT_HF_baseline_304', 1),\n",
       " ('IT_LF_baseline_276', 0),\n",
       " ('IT_p_Total_baseline_318', 0),\n",
       " ('IT_MF_baseline_290', 0),\n",
       " ('IT_RF_prctile75_214', 0),\n",
       " ('IT_PSD_baseline_248', 0),\n",
       " ('ECG_original_prctile75_10', 0),\n",
       " ('IT_LF_prctile75_199', 0),\n",
       " ('ECG_hrv_trimmean25_69', 0),\n",
       " ('ECG_RR_window_trimmean25_17', 0),\n",
       " ('ECG_RR_window_mean_15', 0),\n",
       " ('ECG_hrv_median_70', 0),\n",
       " ('ECG_HR_min_div_mean_43', 0),\n",
       " ('ECG_hrv_geomean(abs)_77', 0),\n",
       " ('ECG_HR_min_div_trimmean25_45', 0),\n",
       " ('IT_LF_std_191', 0),\n",
       " ('ECG_amplitude_RR_min_36', 0),\n",
       " ('IT_Original_std_176', 0),\n",
       " ('ECG_HR_min_div_prctile25_51', 0),\n",
       " ('ECG_RR_window_prctile75_24', 0),\n",
       " ('EDA_processed_prctile75_453', 0),\n",
       " ('IT_LF_median_193', 0),\n",
       " ('IT_Original_median_178', 0),\n",
       " ('ECG_amplitude_RR_max_35', 0)]"
      ]
     },
     "execution_count": 46,
     "metadata": {},
     "output_type": "execute_result"
    }
   ],
   "source": [
    "sorted(f_dic.items(), key=lambda x: x[1], reverse=True)"
   ]
  },
  {
   "cell_type": "code",
   "execution_count": 47,
   "metadata": {},
   "outputs": [
    {
     "data": {
      "text/plain": [
       "['IT_BR_mean_220',\n",
       " 'EDA_processed_baseline_457',\n",
       " 'IT_VLF_baseline_262',\n",
       " 'ECG_RR_window_trimmean25_17',\n",
       " 'EDA_processed_mad_456',\n",
       " 'IT_p_Total_baseline_318']"
      ]
     },
     "execution_count": 47,
     "metadata": {},
     "output_type": "execute_result"
    }
   ],
   "source": [
    "['IT_BR_mean_220',\n",
    " 'EDA_processed_baseline_457',\n",
    " 'IT_VLF_baseline_262',\n",
    " 'ECG_RR_window_trimmean25_17',\n",
    " 'EDA_processed_mad_456',\n",
    " 'IT_p_Total_baseline_318']"
   ]
  },
  {
   "cell_type": "code",
   "execution_count": 48,
   "metadata": {},
   "outputs": [
    {
     "data": {
      "text/plain": [
       "['IT_BR_mean_220',\n",
       " 'ECG_hrv_mean_67',\n",
       " 'IT_RF_geomean(abs)_215',\n",
       " 'EDA_processed_baseline_457',\n",
       " 'IT_VLF_baseline_262',\n",
       " 'ECG_hrv_max_73',\n",
       " 'ECG_hrv_prctile75_76',\n",
       " 'IT_Original_prctile75_184',\n",
       " 'ECG_RR_window_geomean(abs)_25',\n",
       " 'ECG_HR_min_div_geomean(abs)_53']"
      ]
     },
     "execution_count": 48,
     "metadata": {},
     "output_type": "execute_result"
    }
   ],
   "source": [
    "[k for (k, v) in sorted(f_dic.items(), key=lambda x: x[1], reverse=True)][:10]\n",
    "# max(track.keys())\n",
    "# track[max(track.keys())]"
   ]
  },
  {
   "cell_type": "code",
   "execution_count": 49,
   "metadata": {},
   "outputs": [],
   "source": [
    "with open('top10txt', 'w') as f:\n",
    "    for line in [k for (k, v) in sorted(f_dic.items(), key=lambda x: x[1], reverse=True)][:10]:\n",
    "        f.write(f\"{line}\\n\")"
   ]
  },
  {
   "cell_type": "code",
   "execution_count": 50,
   "metadata": {},
   "outputs": [
    {
     "data": {
      "text/plain": [
       "0.8576859454719388"
      ]
     },
     "execution_count": 50,
     "metadata": {},
     "output_type": "execute_result"
    }
   ],
   "source": [
    "from sklearn.linear_model import LogisticRegression\n",
    "features =['IT_BR_mean_220',\n",
    " 'EDA_processed_baseline_457',\n",
    " 'IT_VLF_baseline_262',\n",
    " 'ECG_RR_window_trimmean25_17',\n",
    " 'EDA_processed_mad_456',\n",
    " 'IT_p_Total_baseline_318']\n",
    "X_train, X_test, y_train, y_test = custom_train_test_split(df, test_split=0.2)\n",
    "X_train = X_train[features]\n",
    "X_test = X_test[features]\n",
    "from sklearn.preprocessing import StandardScaler\n",
    "scaler = StandardScaler()\n",
    "scaler.fit(X_train)\n",
    "X_train = scaler.transform(X_train)\n",
    "X_test = scaler.transform(X_test)\n",
    "clf = LogisticRegression(random_state=42,penalty='l2')\n",
    "clf.fit(X_train, y_train)\n",
    "y_scored = clf.predict_proba(X_test)\n",
    "model = clf\n",
    "features = features\n",
    "score = roc_auc_score(y_test, y_scored, multi_class='ovr',average=\"macro\")\n",
    "score"
   ]
  },
  {
   "cell_type": "code",
   "execution_count": 51,
   "metadata": {
    "deletable": false,
    "nbgrader": {
     "cell_type": "code",
     "checksum": "d13d8ecd713b4ed9d58940ec96042792",
     "grade": false,
     "grade_id": "cell-aa54eef9e0c09556",
     "locked": false,
     "schema_version": 3,
     "solution": true,
     "task": false
    }
   },
   "outputs": [],
   "source": [
    "def activity_model():\n",
    "    model, features, score = (None,) * 3\n",
    "\n",
    "    # YOUR CODE HERE\n",
    "#     raise NotImplementedError()\n",
    "    from sklearn.linear_model import LogisticRegression\n",
    "    df = get_sensor_data()\n",
    "    # X_train, X_test, y_train, y_test = custom_train_test_split(df, test_split=0.2)\n",
    "    # roc_values = {}\n",
    "    # from sklearn.linear_model import LogisticRegression\n",
    "    # for feature in X_train.columns[1:]:\n",
    "    #     clf = LogisticRegression(random_state=42)\n",
    "    #     clf.fit(X_train[feature].values.reshape(-1,1), y_train)\n",
    "    #     y_scored = clf.predict_proba(X_test[feature].values.reshape(-1,1))\n",
    "    #     roc_values[feature] = roc_auc_score(y_test, y_scored, multi_class='ovr',average=\"macro\")\n",
    "    # features = [k for (k, v) in sorted(roc_values.items(), key=lambda x: x[1], reverse=True)][:10]\n",
    "#     features = ['EDA_processed_baseline_457',\n",
    "#      'IT_LF_baseline_276',\n",
    "#      'IT_p_Total_baseline_318',\n",
    "#      'IT_VLF_baseline_262',\n",
    "#      'IT_MF_baseline_290',\n",
    "#      'IT_RF_prctile75_214',\n",
    "#      'ECG_hrv_max_73',\n",
    "#      'IT_PSD_baseline_248',\n",
    "#      'ECG_original_prctile75_10',\n",
    "#      'IT_BR_mean_220']\n",
    "    \n",
    "    features = ['IT_MF_baseline_290',\n",
    "     'IT_LF_baseline_276',\n",
    "     'IT_BR_mean_220',\n",
    "     'ECG_HR_min_div_trimmean25_45',\n",
    "     'IT_Original_prctile75_184',\n",
    "     'IT_PSD_baseline_248',\n",
    "     'ECG_original_prctile75_10',\n",
    "     'ECG_RR_window_harmmean_26',\n",
    "     'IT_LF_prctile75_199',\n",
    "     'EDA_processed_baseline_457']\n",
    "    X_train, X_test, y_train, y_test = custom_train_test_split(df, test_split=0.2)\n",
    "    X_train = X_train[features]\n",
    "    X_test = X_test[features]\n",
    "    from sklearn.preprocessing import StandardScaler\n",
    "    scaler = StandardScaler()\n",
    "    scaler.fit(X_train)\n",
    "    X_train = scaler.transform(X_train)\n",
    "    X_test = scaler.transform(X_test)\n",
    "    clf = LogisticRegression(random_state=42,penalty='l2')\n",
    "    clf.fit(X_train, y_train)\n",
    "    y_scored = clf.predict_proba(X_test)\n",
    "    model = clf\n",
    "    features = features\n",
    "    score = roc_auc_score(y_test, y_scored, multi_class='ovr',average=\"macro\")\n",
    "\n",
    "    return (model, features, score)"
   ]
  },
  {
   "cell_type": "code",
   "execution_count": 52,
   "metadata": {},
   "outputs": [],
   "source": [
    "# review your activity_model() return here\n",
    "# remember to comment the function call before submitting the notebook\n",
    "\n",
    "# activity_model()"
   ]
  },
  {
   "cell_type": "code",
   "execution_count": 53,
   "metadata": {
    "deletable": false,
    "editable": false,
    "nbgrader": {
     "cell_type": "code",
     "checksum": "8a6b9f898c212bef7bb6bdd2f2b48205",
     "grade": true,
     "grade_id": "cell-b75d744376ca0a86",
     "locked": true,
     "points": 25,
     "schema_version": 3,
     "solution": false
    }
   },
   "outputs": [],
   "source": [
    "# Hidden autograder model validation\n",
    "# test for AUC score >= 0.83\n",
    "\n",
    "stu_ans = activity_model()\n",
    "\n",
    "assert (\n",
    "    stu_ans[2] >= 0.83\n",
    "), f\"Q11: Your test AUC {stu_ans[2]:.4f} is less than 0.83. You will not receive any points for this question.\""
   ]
  },
  {
   "cell_type": "code",
   "execution_count": 54,
   "metadata": {
    "deletable": false,
    "editable": false,
    "nbgrader": {
     "cell_type": "code",
     "checksum": "bd9f10b623502320ec1c62f8fc071d44",
     "grade": true,
     "grade_id": "cell-51c43ad464c6a07b",
     "locked": true,
     "points": 5,
     "schema_version": 3,
     "solution": false
    }
   },
   "outputs": [],
   "source": [
    "# autograder test - AUC >= 0.85\n",
    "\n",
    "\n",
    "assert (\n",
    "    stu_ans[2] >= 0.85\n",
    "), f\"Q11: Your test AUC {stu_ans[2]:.4f} is less than 0.85. You will receive 25 points for this question.\""
   ]
  },
  {
   "cell_type": "code",
   "execution_count": 55,
   "metadata": {
    "deletable": false,
    "editable": false,
    "nbgrader": {
     "cell_type": "code",
     "checksum": "ef17cb93c66df1dc0a1586b95ac65471",
     "grade": true,
     "grade_id": "cell-8013377ff7931f48",
     "locked": true,
     "points": 5,
     "schema_version": 3,
     "solution": false
    }
   },
   "outputs": [],
   "source": [
    "# autograder test - AUC >= 0.87\n",
    "\n",
    "\n",
    "assert (\n",
    "    stu_ans[2] >= 0.87\n",
    "), f\"Q11: Your test AUC {stu_ans[2]:.4f} is less than 0.87. You will receive 30 points for this question.\""
   ]
  },
  {
   "cell_type": "code",
   "execution_count": 56,
   "metadata": {
    "deletable": false,
    "editable": false,
    "nbgrader": {
     "cell_type": "code",
     "checksum": "673cff6f549ebe345a23f8d2e5c0f31c",
     "grade": true,
     "grade_id": "cell-ebe32e8d5f5255f4",
     "locked": true,
     "points": 10,
     "schema_version": 3,
     "solution": false
    }
   },
   "outputs": [
    {
     "ename": "AssertionError",
     "evalue": "Q11: Your test AUC 0.8751 is less than 0.89. You will receive 35 points for this question.",
     "output_type": "error",
     "traceback": [
      "\u001b[0;31m---------------------------------------------------------------------------\u001b[0m",
      "\u001b[0;31mAssertionError\u001b[0m                            Traceback (most recent call last)",
      "Input \u001b[0;32mIn [56]\u001b[0m, in \u001b[0;36m<cell line: 5>\u001b[0;34m()\u001b[0m\n\u001b[1;32m      1\u001b[0m \u001b[38;5;66;03m# autograder test - AUC >= 0.89\u001b[39;00m\n\u001b[0;32m----> 4\u001b[0m \u001b[38;5;28;01massert\u001b[39;00m (\n\u001b[1;32m      5\u001b[0m     stu_ans[\u001b[38;5;241m2\u001b[39m] \u001b[38;5;241m>\u001b[39m\u001b[38;5;241m=\u001b[39m \u001b[38;5;241m0.89\u001b[39m\n\u001b[1;32m      6\u001b[0m ), \u001b[38;5;124mf\u001b[39m\u001b[38;5;124m\"\u001b[39m\u001b[38;5;124mQ11: Your test AUC \u001b[39m\u001b[38;5;132;01m{\u001b[39;00mstu_ans[\u001b[38;5;241m2\u001b[39m]\u001b[38;5;132;01m:\u001b[39;00m\u001b[38;5;124m.4f\u001b[39m\u001b[38;5;132;01m}\u001b[39;00m\u001b[38;5;124m is less than 0.89. You will receive 35 points for this question.\u001b[39m\u001b[38;5;124m\"\u001b[39m\n",
      "\u001b[0;31mAssertionError\u001b[0m: Q11: Your test AUC 0.8751 is less than 0.89. You will receive 35 points for this question."
     ]
    }
   ],
   "source": [
    "# autograder test - AUC >= 0.89\n",
    "\n",
    "\n",
    "assert (\n",
    "    stu_ans[2] >= 0.89\n",
    "), f\"Q11: Your test AUC {stu_ans[2]:.4f} is less than 0.89. You will receive 35 points for this question.\""
   ]
  },
  {
   "cell_type": "code",
   "execution_count": null,
   "metadata": {
    "deletable": false,
    "editable": false,
    "nbgrader": {
     "cell_type": "code",
     "checksum": "26ba8748ac588697dd3a58f942dc3cec",
     "grade": true,
     "grade_id": "cell-ee59bccdda8ea14c",
     "locked": true,
     "points": 5,
     "schema_version": 3,
     "solution": false
    }
   },
   "outputs": [],
   "source": [
    "# autograder test - AUC >= 0.91\n",
    "\n",
    "\n",
    "assert (\n",
    "    stu_ans[2] >= 0.91\n",
    "), f\"Q11: Your test AUC {stu_ans[2]:.4f} is less than 0.91. You will receive 45 points for this question.\"\n",
    "\n",
    "del stu_ans"
   ]
  },
  {
   "cell_type": "code",
   "execution_count": null,
   "metadata": {},
   "outputs": [],
   "source": []
  },
  {
   "cell_type": "code",
   "execution_count": null,
   "metadata": {},
   "outputs": [],
   "source": []
  }
 ],
 "metadata": {
  "anaconda-cloud": {},
  "coursera": {
   "schema_names": [
    "mads_supervised_learning_v2_assignment4"
   ]
  },
  "kernelspec": {
   "display_name": "Python 3 (ipykernel)",
   "language": "python",
   "name": "python3"
  },
  "language_info": {
   "codemirror_mode": {
    "name": "ipython",
    "version": 3
   },
   "file_extension": ".py",
   "mimetype": "text/x-python",
   "name": "python",
   "nbconvert_exporter": "python",
   "pygments_lexer": "ipython3",
   "version": "3.8.10"
  }
 },
 "nbformat": 4,
 "nbformat_minor": 2
}
