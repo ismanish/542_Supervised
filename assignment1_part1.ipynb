{
 "cells": [
  {
   "cell_type": "code",
   "execution_count": 1,
   "metadata": {
    "deletable": false,
    "editable": false,
    "nbgrader": {
     "cell_type": "code",
     "checksum": "750c59ea35055ffcae44b56af8be7cfd",
     "grade": false,
     "grade_id": "cell-1262282752ee17cb",
     "locked": true,
     "schema_version": 3,
     "solution": false
    }
   },
   "outputs": [],
   "source": [
    "version = \"v2.0.220705.1\""
   ]
  },
  {
   "cell_type": "code",
   "execution_count": 2,
   "metadata": {},
   "outputs": [],
   "source": [
    "# Either of the following is no longer\n",
    "# necessary for matplotlib in notebooks.\n",
    "# The import statement has you covered!\n",
    "\n",
    "# %matplotlib notebook\n",
    "# %matplotlib inline"
   ]
  },
  {
   "cell_type": "code",
   "execution_count": 3,
   "metadata": {},
   "outputs": [],
   "source": [
    "# Suppress all warnings only when absolutely necessary\n",
    "# Warnings are in place for a reason!\n",
    "import warnings\n",
    "\n",
    "# warnings.filterwarnings('ignore')\n",
    "# warnings.simplefilter('ignore')"
   ]
  },
  {
   "cell_type": "markdown",
   "metadata": {
    "deletable": false,
    "editable": false,
    "nbgrader": {
     "cell_type": "markdown",
     "checksum": "41334a296fe9ffff295c134417340fc5",
     "grade": false,
     "grade_id": "cell-cf5099926e9f16fa",
     "locked": true,
     "schema_version": 3,
     "solution": false
    }
   },
   "source": [
    "# Assignment 1 Part 1: NumPy Exercises (30 pts)\n",
    "\n",
    "The [NumPy](https://numpy.org/) library and its n-dimensional arrays in particular are indispensable to applied machine learning in Python, as many popular machine learning libraries, such as [Scikit-Learn](https://scikit-learn.org/stable/), are built on top of NumPy. Having a strong command of NumPy serves as a great stepping stone into the exciting world of applied machine learning. The purpose of this assignment is to help you review, if not learn afresh, some of the common operations and coding patterns associated with `np.ndarray` objects. \n",
    "\n",
    "Now, ready for your appetisers?"
   ]
  },
  {
   "cell_type": "code",
   "execution_count": 4,
   "metadata": {
    "deletable": false,
    "editable": false,
    "nbgrader": {
     "cell_type": "code",
     "checksum": "bbae2532d9f09aeb85ed6ba20b963310",
     "grade": false,
     "grade_id": "cell-7696bde2345190bb",
     "locked": true,
     "schema_version": 3,
     "solution": false
    }
   },
   "outputs": [],
   "source": [
    "# this is a NumPy exercise, please use NumPy\n",
    "# as the only external library in your work!\n",
    "\n",
    "import numpy as np"
   ]
  },
  {
   "cell_type": "code",
   "execution_count": 5,
   "metadata": {},
   "outputs": [],
   "source": [
    "np.set_printoptions(precision=3)\n",
    "\n",
    "## Additional imports can be inlcuded here"
   ]
  },
  {
   "cell_type": "markdown",
   "metadata": {
    "deletable": false,
    "editable": false,
    "nbgrader": {
     "cell_type": "markdown",
     "checksum": "1872f1d24efb2c14ea9d62b1368bc609",
     "grade": false,
     "grade_id": "cell-5192a5893e9a8115",
     "locked": true,
     "schema_version": 3,
     "solution": false
    }
   },
   "source": [
    "### Question 1. Array Creation (5 pts)\n",
    "\n",
    "Write a function to create an `n` by `d` `np.ndarray` of an integer type with numbers from `0` to `k` (exclusive) filled in. The numbers should be aranged in order and along the rows. For example, with `k=100`, `n=20` and `d=5`, your function should return:\n",
    "\n",
    "```\n",
    "array([[ 0,  1,  2,  3,  4],\n",
    "       [ 5,  6,  7,  8,  9],\n",
    "       ...\n",
    "       [90, 91, 92, 93, 94],\n",
    "       [95, 96, 97, 98, 99]])\n",
    "```\n",
    "\n",
    "**This function should return an integer `np.ndarray` of shape `(n, d)`.**"
   ]
  },
  {
   "cell_type": "code",
   "execution_count": 6,
   "metadata": {
    "deletable": false,
    "nbgrader": {
     "cell_type": "code",
     "checksum": "2a399536e5f377da726217bedae2e7ad",
     "grade": false,
     "grade_id": "cell-0562c45651419b03",
     "locked": false,
     "schema_version": 3,
     "solution": true
    }
   },
   "outputs": [],
   "source": [
    "def create_array(k, n, d):\n",
    "    \"\"\"\n",
    "    This function returns an n by d matrix with numbers from 0 to k (exclusive) filled in.\n",
    "    \"\"\"\n",
    "    assert (\n",
    "        n * d == k\n",
    "    ), \"Q1: The values of n and d are not compatible with the value of k. \"\n",
    "\n",
    "    array = np.array([i for i in range(0,k)]).reshape((n,d))\n",
    "\n",
    "    # YOUR CODE HERE\n",
    "    # raise NotImplementedError()\n",
    "\n",
    "    return array"
   ]
  },
  {
   "cell_type": "code",
   "execution_count": 7,
   "metadata": {},
   "outputs": [],
   "source": [
    "# # use this cell to explore your solution\n",
    "# # remember to comment the function call before submitting the notebook\n",
    "\n",
    "# create_array(9, 3, 3)"
   ]
  },
  {
   "cell_type": "code",
   "execution_count": 8,
   "metadata": {
    "deletable": false,
    "editable": false,
    "nbgrader": {
     "cell_type": "code",
     "checksum": "f3b2b3858689ce0ad4666a5059443b0f",
     "grade": true,
     "grade_id": "cell-919dd7f0bfcbfd9a",
     "locked": true,
     "points": 5,
     "schema_version": 3,
     "solution": false
    }
   },
   "outputs": [],
   "source": [
    "# Autograder tests - sanity checks\n",
    "n, d = 542, 42\n",
    "k = n * d\n",
    "stu_ans = create_array(k, n, d)\n",
    "\n",
    "assert isinstance(stu_ans, np.ndarray), \"Q1: Your function should return a np.ndarray. \"\n",
    "assert stu_ans.shape == (\n",
    "    n,\n",
    "    d,\n",
    "), f\"Q1: The shape of your np.ndarray {stu_ans.shape} is not correct. \"\n",
    "assert np.issubdtype(\n",
    "    stu_ans.dtype, np.integer\n",
    "), \"Q1: Your np.ndarray should be of an integer type. \"\n",
    "\n",
    "# Some hidden tests below\n",
    "\n",
    "\n",
    "del k, n, d, stu_ans"
   ]
  },
  {
   "cell_type": "markdown",
   "metadata": {
    "deletable": false,
    "editable": false,
    "nbgrader": {
     "cell_type": "markdown",
     "checksum": "b5ed80081317f724b120960f271d80d9",
     "grade": false,
     "grade_id": "cell-d17102a8aade0d25",
     "locked": true,
     "schema_version": 3,
     "solution": false
    }
   },
   "source": [
    "### Question 2. Row Sum (5 pts)\n",
    "\n",
    "Complete the function below that returns the sum of all **rows** in a 2-D matrix as a **row** vector. For example, given matrix\n",
    "\n",
    "```\n",
    "array([[ 0,  1,  2,  3,  4],\n",
    "       [ 5,  6,  7,  8,  9],\n",
    "       ...\n",
    "       [90, 91, 92, 93, 94],\n",
    "       [95, 96, 97, 98, 99]])\n",
    "```\n",
    "\n",
    "it should return\n",
    "```\n",
    "array([ 950,  970,  990, 1010, 1030])\n",
    "```\n",
    "\n",
    "**This function should return a `np.ndarray` of shape `(arr.shape[-1], )`, given the input 2D matrix `arr`.**"
   ]
  },
  {
   "cell_type": "code",
   "execution_count": 9,
   "metadata": {
    "deletable": false,
    "nbgrader": {
     "cell_type": "code",
     "checksum": "877f3561f66e72b059fdfa6ec623e97c",
     "grade": false,
     "grade_id": "cell-7da0be2f62cc82c6",
     "locked": false,
     "schema_version": 3,
     "solution": true
    }
   },
   "outputs": [],
   "source": [
    "def calc_row_sum(arr):\n",
    "    \"\"\"\n",
    "    This function calculates the sum of all rows in a 2D matrix \"arr\".\n",
    "    \"\"\"\n",
    "    row_sum = None\n",
    "    row_sum = arr.sum(axis= 0)\n",
    "\n",
    "    # YOUR CODE HERE\n",
    "    #raise NotImplementedError()\n",
    "\n",
    "    return row_sum"
   ]
  },
  {
   "cell_type": "code",
   "execution_count": 10,
   "metadata": {},
   "outputs": [
    {
     "data": {
      "text/plain": [
       "array([ 9, 12, 15])"
      ]
     },
     "execution_count": 10,
     "metadata": {},
     "output_type": "execute_result"
    }
   ],
   "source": [
    "# # use this cell to explore your solution\n",
    "# # remember to comment the function call before submitting the notebook\n",
    "\n",
    "calc_row_sum(create_array(9, 3, 3))"
   ]
  },
  {
   "cell_type": "code",
   "execution_count": 11,
   "metadata": {
    "deletable": false,
    "editable": false,
    "nbgrader": {
     "cell_type": "code",
     "checksum": "48ad7c44552f9d469a48b5789f2ddb80",
     "grade": true,
     "grade_id": "cell-50152fa70665c294",
     "locked": true,
     "points": 5,
     "schema_version": 3,
     "solution": false
    }
   },
   "outputs": [],
   "source": [
    "# Autograder tests - sanity checks\n",
    "n, d = 542, 42\n",
    "k = n * d\n",
    "stu_ans = calc_row_sum(create_array(k, n, d))\n",
    "\n",
    "assert isinstance(stu_ans, np.ndarray), \"Q2: Your function should return a np.ndarray. \"\n",
    "assert stu_ans.shape == (\n",
    "    d,\n",
    "), f\"Q2: The shape of your np.ndarray {stu_ans.shape} is not correct. \"\n",
    "\n",
    "# Some hidden tests below using create_array(k, n, d) as input for various k, n and d\n",
    "\n",
    "\n",
    "del k, n, d, stu_ans"
   ]
  },
  {
   "cell_type": "markdown",
   "metadata": {
    "deletable": false,
    "editable": false,
    "nbgrader": {
     "cell_type": "markdown",
     "checksum": "eb6b46b7c9a656986cebcb0060f8feda",
     "grade": false,
     "grade_id": "cell-151d159eb6cc7465",
     "locked": true,
     "schema_version": 3,
     "solution": false
    }
   },
   "source": [
    "### Question 3. Column Sum (5 pts)\n",
    "\n",
    "Complete the function below that returns the sum of all **columns** in a 2-D matrix as a **column** vector. For example, given matrix\n",
    "\n",
    "```\n",
    "array([[ 0,  1,  2,  3,  4],\n",
    "       [ 5,  6,  7,  8,  9],\n",
    "       ...\n",
    "       [90, 91, 92, 93, 94],\n",
    "       [95, 96, 97, 98, 99]])\n",
    "```\n",
    "\n",
    "it should return\n",
    "```\n",
    "array([[ 10],\n",
    "       [ 35],\n",
    "       ...\n",
    "       [460],\n",
    "       [485]])\n",
    "```\n",
    "\n",
    "**This function should return a `np.ndarray` of shape `(arr.shape[0], 1)`, given the input 2D matrix `arr`.**"
   ]
  },
  {
   "cell_type": "code",
   "execution_count": 12,
   "metadata": {
    "deletable": false,
    "nbgrader": {
     "cell_type": "code",
     "checksum": "e68e41bc0f432225bfcaa286b436f007",
     "grade": false,
     "grade_id": "cell-fac24fc5a519ef06",
     "locked": false,
     "schema_version": 3,
     "solution": true
    }
   },
   "outputs": [],
   "source": [
    "def calc_col_sum(arr):\n",
    "    \"\"\"\n",
    "    This function calculates the sum of all columns in a 2D matrix \"arr\".\n",
    "    \"\"\"\n",
    "    col_sum = None\n",
    "    col_sum = arr.sum(axis=1)\n",
    "    col_sum = col_sum.reshape((col_sum.shape[0], 1))\n",
    "\n",
    "    # YOUR CODE HERE\n",
    "    #raise NotImplementedError()\n",
    "\n",
    "    return col_sum"
   ]
  },
  {
   "cell_type": "code",
   "execution_count": 13,
   "metadata": {},
   "outputs": [],
   "source": [
    "# # use this cell to explore your solution\n",
    "# # remember to comment the function call before submitting the notebook\n",
    "\n",
    "# calc_col_sum(create_array(100, 20,5))"
   ]
  },
  {
   "cell_type": "code",
   "execution_count": 14,
   "metadata": {
    "deletable": false,
    "editable": false,
    "nbgrader": {
     "cell_type": "code",
     "checksum": "ef3b7f647c7ceddd68fad21e6408c9ea",
     "grade": true,
     "grade_id": "cell-1ebcc2fe5b95b5df",
     "locked": true,
     "points": 5,
     "schema_version": 3,
     "solution": false
    }
   },
   "outputs": [],
   "source": [
    "# Autograder tests - sanity checks\n",
    "n, d = 542, 42\n",
    "k = n * d\n",
    "stu_ans = calc_col_sum(create_array(k, n, d))\n",
    "\n",
    "assert isinstance(stu_ans, np.ndarray), \"Q3: Your function should return a np.ndarray. \"\n",
    "assert stu_ans.shape == (\n",
    "    n,\n",
    "    1,\n",
    "), f\"Q3: The shape of your np.ndarray {stu_ans.shape} is not correct. \"\n",
    "\n",
    "# Some hidden tests below using create_array(k, n, d) as input for various k, n and d\n",
    "\n",
    "\n",
    "del k, n, d, stu_ans"
   ]
  },
  {
   "cell_type": "markdown",
   "metadata": {
    "deletable": false,
    "editable": false,
    "nbgrader": {
     "cell_type": "markdown",
     "checksum": "fe99f27e25891e74ff9de7adcdc6cbc4",
     "grade": false,
     "grade_id": "cell-33882a911ba5c477",
     "locked": true,
     "schema_version": 3,
     "solution": false
    }
   },
   "source": [
    "### Question 4. Sum of Entries from Even Rows and Columns  (5 pts)\n",
    "\n",
    "Write a function to return the sum of entries with **an even row and column index** in a 2-D matrix as a **single number**. For example, given matrix\n",
    "\n",
    "```\n",
    "array([[ 0,  1,  2,  3,  4],\n",
    "       [ 5,  6,  7,  8,  9]])\n",
    "```\n",
    "\n",
    "it should return `6`, because `6 = 0 + 2 + 4`. \n",
    "\n",
    "**This function should return a single number given the input 2D matrix `arr`.**"
   ]
  },
  {
   "cell_type": "code",
   "execution_count": 15,
   "metadata": {
    "deletable": false,
    "nbgrader": {
     "cell_type": "code",
     "checksum": "7dffb300057591b227e41686e6181cde",
     "grade": false,
     "grade_id": "cell-61b34fdd39e99b03",
     "locked": false,
     "schema_version": 3,
     "solution": true
    }
   },
   "outputs": [],
   "source": [
    "def calc_even_row_col_sum(arr):\n",
    "    \"\"\"\n",
    "    This function calculates the sum of entries with an even row and column index\n",
    "    \"\"\"\n",
    "    even_row_col_sum = None\n",
    "    even_row_col_sum = 0\n",
    "\n",
    "    # YOUR CODE HERE\n",
    "    for i in range(0,arr.shape[0]):\n",
    "        for j in range(0,arr.shape[1]):\n",
    "            if (i %2 == 0) & (j %2 == 0):\n",
    "                even_row_col_sum = even_row_col_sum + arr[i][j]\n",
    "    #raise NotImplementedError()\n",
    "\n",
    "    return even_row_col_sum"
   ]
  },
  {
   "cell_type": "code",
   "execution_count": 16,
   "metadata": {},
   "outputs": [],
   "source": [
    "# # use this cell to explore your solution\n",
    "# # remember to comment the function call before submitting the notebook\n",
    "\n",
    "# calc_even_row_col_sum(create_array(10, 2, 5))"
   ]
  },
  {
   "cell_type": "code",
   "execution_count": 17,
   "metadata": {
    "deletable": false,
    "editable": false,
    "nbgrader": {
     "cell_type": "code",
     "checksum": "c4183b1acbafbb42b2383931dfe86695",
     "grade": true,
     "grade_id": "cell-0bd5392f7412ea87",
     "locked": true,
     "points": 5,
     "schema_version": 3,
     "solution": false
    }
   },
   "outputs": [],
   "source": [
    "# Autograder tests - sanity checks\n",
    "n, d = 542, 42\n",
    "k = n * d\n",
    "stu_ans = calc_even_row_col_sum(create_array(k, n, d))\n",
    "\n",
    "assert isinstance(\n",
    "    stu_ans, np.number\n",
    "), \"Q4: Your function should return a single number. \"\n",
    "\n",
    "# Some hidden tests below using create_array(k, n, d) as input for various k, n and d\n",
    "\n",
    "\n",
    "del k, n, d, stu_ans"
   ]
  },
  {
   "cell_type": "markdown",
   "metadata": {
    "deletable": false,
    "editable": false,
    "nbgrader": {
     "cell_type": "markdown",
     "checksum": "b7cad594d30dc8eb1eeed11c72e46854",
     "grade": false,
     "grade_id": "cell-69dd1eef26cd5aac",
     "locked": true,
     "schema_version": 3,
     "solution": false
    }
   },
   "source": [
    "### Question 5. Row Selection  (5 pts)\n",
    "\n",
    "Write a function to return the `top_n` **rows** of a 2-D matrix in descending order of their sum of entries. For example, given matrix\n",
    "\n",
    "```\n",
    "array([[ 6,  7,  8,  9, 10, 11],\n",
    "       [12, 13, 14, 15, 16, 17],\n",
    "       [18, 19, 20, 21, 22, 23],\n",
    "       [ 0,  1,  2,  3,  4,  5],\n",
    "       [24, 25, 26, 27, 28, 29]])\n",
    "```\n",
    "\n",
    "and `top_n=3`, it should return\n",
    "```\n",
    "array([[24, 25, 26, 27, 28, 29],\n",
    "       [18, 19, 20, 21, 22, 23],\n",
    "       [12, 13, 14, 15, 16, 17]])\n",
    "```\n",
    "\n",
    "**This function should return a `np.ndarray` of shape `(top_n, arr.shape[-1])`, given the input 2D matrix `arr`.**"
   ]
  },
  {
   "cell_type": "code",
   "execution_count": 18,
   "metadata": {
    "deletable": false,
    "nbgrader": {
     "cell_type": "code",
     "checksum": "f097df9a0d9dd2094368db83a4e9ff19",
     "grade": false,
     "grade_id": "cell-8e5c85428bc3e008",
     "locked": false,
     "schema_version": 3,
     "solution": true
    }
   },
   "outputs": [],
   "source": [
    "def select_rows(arr, top_n):\n",
    "    \"\"\"\n",
    "    This function selects the top_n rows that have the largest sum of entries\n",
    "    \"\"\"\n",
    "    sel_rows = None\n",
    "    #sel_rows = arr[[i for i in range(arr.shape[0]-1,arr.shape[0]-1 - top_n,-1)]].reshape(top_n, arr.shape[-1])\n",
    "    tmp = np.argsort(arr.sum(axis=1))[-top_n:]\n",
    "    tmp = tmp[::-1]\n",
    "    sel_rows = arr[tmp]\n",
    "    # YOUR CODE HERE\n",
    "    #raise NotImplementedError()\n",
    "\n",
    "    return sel_rows"
   ]
  },
  {
   "cell_type": "code",
   "execution_count": 19,
   "metadata": {},
   "outputs": [],
   "source": [
    "# # use this cell to explore your solution\n",
    "# # remember to comment the function call before submitting the notebook\n",
    "\n",
    "# select_rows(create_array(9, 3, 3), 3)"
   ]
  },
  {
   "cell_type": "code",
   "execution_count": 34,
   "metadata": {},
   "outputs": [
    {
     "data": {
      "text/plain": [
       "array([[    0,     1,     2, ...,    39,    40,    41],\n",
       "       [   42,    43,    44, ...,    81,    82,    83],\n",
       "       [   84,    85,    86, ...,   123,   124,   125],\n",
       "       ...,\n",
       "       [22638, 22639, 22640, ..., 22677, 22678, 22679],\n",
       "       [22680, 22681, 22682, ..., 22719, 22720, 22721],\n",
       "       [22722, 22723, 22724, ..., 22761, 22762, 22763]])"
      ]
     },
     "execution_count": 34,
     "metadata": {},
     "output_type": "execute_result"
    }
   ],
   "source": [
    "n, d = 542, 42\n",
    "k = n * d\n",
    "top_n = 94\n",
    "stu_ans = create_array(k, n, d)\n",
    "stu_ans"
   ]
  },
  {
   "cell_type": "code",
   "execution_count": 42,
   "metadata": {},
   "outputs": [
    {
     "data": {
      "text/plain": [
       "array([41, 40, 39])"
      ]
     },
     "execution_count": 42,
     "metadata": {},
     "output_type": "execute_result"
    }
   ],
   "source": [
    "np.argsort(stu_ans.sum(axis=0))[::-1][:3]"
   ]
  },
  {
   "cell_type": "code",
   "execution_count": 20,
   "metadata": {
    "deletable": false,
    "editable": false,
    "nbgrader": {
     "cell_type": "code",
     "checksum": "88e3df2c20a703871b0b12aec564a007",
     "grade": true,
     "grade_id": "cell-7c3f4473c01b46df",
     "locked": true,
     "points": 5,
     "schema_version": 3,
     "solution": false
    }
   },
   "outputs": [],
   "source": [
    "# Autograder tests - sanity checks\n",
    "n, d = 542, 42\n",
    "k = n * d\n",
    "top_n = 94\n",
    "stu_ans = select_rows(np.random.permutation(create_array(k, n, d)), top_n)\n",
    "\n",
    "assert isinstance(stu_ans, np.ndarray), \"Q5: Your function should return a np.ndarray. \"\n",
    "assert stu_ans.shape == (\n",
    "    top_n,\n",
    "    d,\n",
    "), f\"Q5: The shape of your np.ndarray {stu_ans.shape} is not correct. \"\n",
    "\n",
    "# Some hidden tests below using a randomly permuted create_array(k, n, d) as input for various k, n and d\n",
    "\n",
    "\n",
    "del k, n, d, top_n, stu_ans"
   ]
  },
  {
   "cell_type": "markdown",
   "metadata": {
    "deletable": false,
    "editable": false,
    "nbgrader": {
     "cell_type": "markdown",
     "checksum": "35bc786ea476aeec3aee9f384a380321",
     "grade": false,
     "grade_id": "cell-eef73d2512084cc8",
     "locked": true,
     "schema_version": 3,
     "solution": false
    }
   },
   "source": [
    "### Question 6. Pairwise Cosine Similarity  (5 pts)\n",
    "\n",
    "Write a function to compute all pairwise cosine similarity of the **row vectors** in a 2-D matrix. For example, given matrix\n",
    "\n",
    "```\n",
    "array([[ 0,  1,  2,  3,  4],\n",
    "       [ 5,  6,  7,  8,  9],\n",
    "       [10, 11, 12, 13, 14]])\n",
    "```\n",
    "\n",
    "it should return\n",
    "```\n",
    "array([[1.        , 0.91465912, 0.87845859],\n",
    "       [0.91465912, 1.        , 0.99663684],\n",
    "       [0.87845859, 0.99663684, 1.        ]])\n",
    "```\n",
    "\n",
    "where the `(i, j)` entry of the result is the cosine similarity between the row vector `arr[i]` and the row vector `arr[j]`:  \n",
    "\n",
    "```\n",
    "cos_sim[i, j] == CosSim(arr[i], arr[j]).\n",
    "```\n",
    "\n",
    "\n",
    "\n",
    "As usual, the cosine similarity between two vectors $x, y$ is defined as:\n",
    "\n",
    "\\begin{equation*}\n",
    "\\mathrm{CosSim}(x, y) = \\frac{x^{T}y}{\\left\\lVert x \\right\\rVert_{2} \\left\\lVert y \\right\\rVert_{2}} = \\left(\\frac{x}{\\left\\lVert x \\right\\rVert_{2}}\\right)^{T}\\left(\\frac{y}{\\left\\lVert y \\right\\rVert_{2}}\\right)\n",
    "\\end{equation*}\n",
    "\n",
    "**This function should return a `np.ndarray` of shape `(arr.shape[0], arr.shape[0])`, given the input 2D matrix `arr`.**"
   ]
  },
  {
   "cell_type": "code",
   "execution_count": 21,
   "metadata": {
    "deletable": false,
    "nbgrader": {
     "cell_type": "code",
     "checksum": "e00efc06b6940cc8569d953dea80a1e6",
     "grade": false,
     "grade_id": "cell-4b71f9b9bd2e9139",
     "locked": false,
     "schema_version": 3,
     "solution": true
    }
   },
   "outputs": [],
   "source": [
    "def calc_pairwise_cos_sim(arr):\n",
    "    \"\"\"\n",
    "    This function computes all pairwise cosine similarity\n",
    "    \"\"\"\n",
    "    cos_sim = None\n",
    "    d = arr.shape[0]\n",
    "    cos_sim = np.zeros(shape=(d, d))\n",
    "    for i in range(0,d):\n",
    "        for j in range(0,d):\n",
    "            cos_sim[i][j] = np.dot(arr[i].T, arr[j])/(np.linalg.norm(arr[i].T)*np.linalg.norm(arr[j]))\n",
    "\n",
    "    # YOUR CODE HERE\n",
    "    #raise NotImplementedError()\n",
    "\n",
    "    return cos_sim"
   ]
  },
  {
   "cell_type": "code",
   "execution_count": 22,
   "metadata": {},
   "outputs": [
    {
     "data": {
      "text/plain": [
       "array([[1.   , 0.885, 0.843],\n",
       "       [0.885, 1.   , 0.996],\n",
       "       [0.843, 0.996, 1.   ]])"
      ]
     },
     "execution_count": 22,
     "metadata": {},
     "output_type": "execute_result"
    }
   ],
   "source": [
    "# use this cell to explore your solution\n",
    "# remember to comment the function call before submitting the notebook\n",
    "\n",
    "calc_pairwise_cos_sim(create_array(9, 3, 3))"
   ]
  },
  {
   "cell_type": "code",
   "execution_count": 23,
   "metadata": {
    "deletable": false,
    "editable": false,
    "nbgrader": {
     "cell_type": "code",
     "checksum": "8ed1e863b61707c6c676e9a269bc0703",
     "grade": true,
     "grade_id": "cell-746df875c076339d",
     "locked": true,
     "points": 5,
     "schema_version": 3,
     "solution": false
    }
   },
   "outputs": [],
   "source": [
    "# Autograder tests\n",
    "n, d = 542, 42\n",
    "k = n * d\n",
    "stu_ans = calc_pairwise_cos_sim(create_array(k, n, d))\n",
    "\n",
    "assert isinstance(stu_ans, np.ndarray), \"Q6: Your function should return a np.ndarray. \"\n",
    "assert stu_ans.shape == (\n",
    "    n,\n",
    "    n,\n",
    "), f\"Q6: The shape of your np.ndarray {stu_ans.shape} is not correct. \"\n",
    "assert np.isclose(\n",
    "    np.diag(stu_ans), 1\n",
    ").all(), \"Q6: The diagonal entries of your np.ndarray should all be ones. \"\n",
    "\n",
    "# Some hidden tests below using create_array(k, n, d) as input for various k, n and d\n",
    "\n",
    "\n",
    "del k, n, d, stu_ans"
   ]
  },
  {
   "cell_type": "markdown",
   "metadata": {
    "deletable": false,
    "editable": false,
    "nbgrader": {
     "cell_type": "markdown",
     "checksum": "5ae3b82e9fbe76fe4dc4492187460659",
     "grade": false,
     "grade_id": "cell-00bcd9708ed8e4a3",
     "locked": true,
     "schema_version": 3,
     "solution": false
    }
   },
   "source": [
    "While this \"appetizer\" exercise cannot possibly cover all aspects of NumPy, we do hope that it has helped you identify your own areas of improvement and stimulated your \"appetite\" for more NumPy practicing and learning!"
   ]
  }
 ],
 "metadata": {
  "coursera": {
   "schema_names": [
    "mads_supervised_learning_v2_assignment1_part1"
   ]
  },
  "kernelspec": {
   "display_name": "Python 3 (ipykernel)",
   "language": "python",
   "name": "python3"
  },
  "language_info": {
   "codemirror_mode": {
    "name": "ipython",
    "version": 3
   },
   "file_extension": ".py",
   "mimetype": "text/x-python",
   "name": "python",
   "nbconvert_exporter": "python",
   "pygments_lexer": "ipython3",
   "version": "3.8.10"
  }
 },
 "nbformat": 4,
 "nbformat_minor": 1
}
