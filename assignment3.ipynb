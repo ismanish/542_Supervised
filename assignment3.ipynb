{
 "cells": [
  {
   "cell_type": "code",
   "execution_count": 1,
   "metadata": {
    "deletable": false,
    "editable": false,
    "nbgrader": {
     "cell_type": "code",
     "checksum": "1515d6d9f1d5c75645a0f48c39fc9a6f",
     "grade": false,
     "grade_id": "cell-88c93c4d54fd060c",
     "locked": true,
     "schema_version": 3,
     "solution": false
    }
   },
   "outputs": [],
   "source": [
    "version = \"v2.0.220705.1\""
   ]
  },
  {
   "cell_type": "code",
   "execution_count": 2,
   "metadata": {},
   "outputs": [],
   "source": [
    "# Either of the following is no longer\n",
    "# necessary for matplotlib in notebooks.\n",
    "# The import statement has you covered!\n",
    "\n",
    "# %matplotlib notebook\n",
    "# %matplotlib inline"
   ]
  },
  {
   "cell_type": "code",
   "execution_count": 3,
   "metadata": {},
   "outputs": [],
   "source": [
    "# Suppress all warnings only when absolutely necessary\n",
    "# Warnings are in place for a reason!\n",
    "import warnings\n",
    "\n",
    "# warnings.filterwarnings('ignore')\n",
    "# warnings.simplefilter('ignore')"
   ]
  },
  {
   "cell_type": "markdown",
   "metadata": {
    "deletable": false,
    "editable": false,
    "nbgrader": {
     "cell_type": "markdown",
     "checksum": "8ee5362b51ca81057eb68eb06253688e",
     "grade": false,
     "grade_id": "cell-554a4072c9e433c3",
     "locked": true,
     "schema_version": 3,
     "solution": false
    }
   },
   "source": [
    "# Assignment 3: Classification and Evaluation\n",
    "\n",
    "In this assignment we will build several classification models and calculate some useful metrics for gauging the performance of these models. The scenario we'll address is \"spam\" e-mail detection: a very important, widely-used supervised machine learning task that attempts to find unsolicited, mass-produced messages that have irrelevant and/or inappropriate content (often mass marketing or attempts at fraud). These are sometimes called \"spam filters\".\n",
    "\n",
    "We treat this task as a binary classification problem: detecting if an email is \"spam\" (Class == 1) or not (Class == 0, a regular/good e-mail). Email systems will typically automatically move messages detected as \"spam\" to a \"Spam\" or \"Deleted\" folder so the user will not have to read them in their regular inbox.\n",
    "\n",
    "In this setup, a *false positive* would mark a regular/good e-mail as spam. The key aspect of the \"spam\" scenario is that false positives are obviously very undesirable, because these would cause people to potentially lose valuable \"good\" messages. So we want a highly precise spam filter that has few/no false positives, but as we'll see, as a consequence it may let more spam through the filter. This is a classic precision / recall tradeoff, which you'll investigate below."
   ]
  },
  {
   "cell_type": "code",
   "execution_count": 4,
   "metadata": {
    "deletable": false,
    "editable": false,
    "nbgrader": {
     "cell_type": "code",
     "checksum": "13c8053ca5f64d61129222a10c9c7d7a",
     "grade": false,
     "grade_id": "cell-ba1334eed4710455",
     "locked": true,
     "schema_version": 3,
     "solution": false
    }
   },
   "outputs": [],
   "source": [
    "# import necessary libraries\n",
    "import warnings\n",
    "import numpy as np\n",
    "import pandas as pd\n",
    "import matplotlib.pyplot as plt\n",
    "import seaborn as sns"
   ]
  },
  {
   "cell_type": "code",
   "execution_count": 5,
   "metadata": {},
   "outputs": [],
   "source": [
    "# np.set_printoptions(precision=3)\n",
    "\n",
    "## Additional imports can be inlcuded here\n",
    "from matplotlib import pyplot as plt"
   ]
  },
  {
   "cell_type": "markdown",
   "metadata": {
    "deletable": false,
    "editable": false,
    "nbgrader": {
     "cell_type": "markdown",
     "checksum": "4dbbbcde207142f514f0ef412d405bc2",
     "grade": false,
     "grade_id": "cell-9771b1df168291c3",
     "locked": true,
     "schema_version": 3,
     "solution": false
    }
   },
   "source": [
    "### Question 1. (10 pts)\n",
    "\n",
    "Import the data from `assets/spam.csv`. What is the ratio of the counts of regular (class == 0) to spam (Class == 1) observations in the entire dataset? \n",
    "\n",
    "*This function should return a positive float less than 10.* "
   ]
  },
  {
   "cell_type": "code",
   "execution_count": 6,
   "metadata": {
    "deletable": false,
    "nbgrader": {
     "cell_type": "code",
     "checksum": "92bcdbf720309adde0a9828ca471ddc1",
     "grade": false,
     "grade_id": "cell-eb9dacc32d9f3f86",
     "locked": false,
     "schema_version": 3,
     "solution": true
    }
   },
   "outputs": [],
   "source": [
    "def answer_one():\n",
    "    frac = None\n",
    "\n",
    "    # YOUR CODE HERE\n",
    "#     raise NotImplementedError()\n",
    "    df = pd.read_csv(\"assets/spam.csv\")\n",
    "    r = len(df[df['Class']==0])/len(df[df['Class']==1])\n",
    "\n",
    "    return r"
   ]
  },
  {
   "cell_type": "code",
   "execution_count": 7,
   "metadata": {},
   "outputs": [],
   "source": [
    "df = pd.read_csv(\"assets/spam.csv\")\n",
    "df.head()\n",
    "X = df.iloc[:,:-1]\n",
    "y = df.iloc[:,-1]"
   ]
  },
  {
   "cell_type": "code",
   "execution_count": 8,
   "metadata": {},
   "outputs": [],
   "source": [
    "from sklearn.model_selection import train_test_split\n",
    "from sklearn.preprocessing import StandardScaler\n",
    "\n",
    "X_train_raw, X_test_raw, y_train, y_test = train_test_split(X,y, test_size=.2, random_state=0)\n",
    "scaler = StandardScaler()\n",
    "X_train = scaler.fit_transform(X_train_raw)\n",
    "X_test = scaler.transform(X_test_raw)"
   ]
  },
  {
   "cell_type": "code",
   "execution_count": 9,
   "metadata": {},
   "outputs": [
    {
     "data": {
      "text/plain": [
       "1.5377826806398236"
      ]
     },
     "execution_count": 9,
     "metadata": {},
     "output_type": "execute_result"
    }
   ],
   "source": [
    "# # use this cell to explore your solution\n",
    "# # remember to comment the function call before submitting the notebook\n",
    "\n",
    "answer_one()"
   ]
  },
  {
   "cell_type": "code",
   "execution_count": 10,
   "metadata": {
    "deletable": false,
    "editable": false,
    "nbgrader": {
     "cell_type": "code",
     "checksum": "012c714ad852d7ec95589a245fdb8b14",
     "grade": true,
     "grade_id": "cell-9242576998a6487f",
     "locked": true,
     "points": 10,
     "schema_version": 3,
     "solution": false
    }
   },
   "outputs": [],
   "source": [
    "# Autograder tests\n",
    "\n",
    "stu_ans = answer_one()\n",
    "assert isinstance(stu_ans, float), \"Q1: Your function should return a float. \"\n",
    "assert 0.0 <= stu_ans <= 10.0, \"Q1: Your answer must be between 0 and 10. \"\n",
    "\n",
    "del stu_ans"
   ]
  },
  {
   "cell_type": "markdown",
   "metadata": {
    "deletable": false,
    "editable": false,
    "nbgrader": {
     "cell_type": "markdown",
     "checksum": "e0da93d60ece6afc55ff3773290aedce",
     "grade": false,
     "grade_id": "cell-5431ef2fd6068eb9",
     "locked": true,
     "schema_version": 3,
     "solution": false
    }
   },
   "source": [
    "Now prepare the data: we break into training and testing sets as usual. But there's another critical step, since we're going to be using *regularized* classification methods on this data. We must first *perform feature normalization so that all features are on a standardized scale.*  We do this by applying the StandardScalar class from sklearn.preprocessing.\n",
    "\n",
    "The details of how we do this are important. You must *first* split the data into training and test sets, and *only after the split*, do the feature normalization. This is to avoid giving information about the range of variables in the test split to the training split, which would be a form of data leakage."
   ]
  },
  {
   "cell_type": "code",
   "execution_count": 11,
   "metadata": {
    "deletable": false,
    "editable": false,
    "nbgrader": {
     "cell_type": "code",
     "checksum": "47f31c1e5de09bbbe77fad6683861890",
     "grade": false,
     "grade_id": "cell-341b4f8e1caa6a50",
     "locked": true,
     "schema_version": 3,
     "solution": false
    }
   },
   "outputs": [],
   "source": [
    "from sklearn.model_selection import train_test_split\n",
    "from sklearn.preprocessing import StandardScaler\n",
    "\n",
    "df = pd.read_csv(\"assets/spam.csv\")\n",
    "\n",
    "X = df.iloc[:, :-1]\n",
    "y = df.iloc[:, -1]\n",
    "\n",
    "X_train_raw, X_test_raw, y_train, y_test = train_test_split(X, y, random_state=0)\n",
    "\n",
    "scaler = StandardScaler().fit(X_train_raw)\n",
    "\n",
    "X_train = scaler.transform(X_train_raw)\n",
    "X_test = scaler.transform(X_test_raw)\n",
    "\n",
    "# Use X_train, X_test, y_train, y_test for all of the following questions.\n",
    "# Also, X_train_raw and X_test_raw will be useful for Question 7."
   ]
  },
  {
   "cell_type": "markdown",
   "metadata": {
    "deletable": false,
    "editable": false,
    "nbgrader": {
     "cell_type": "markdown",
     "checksum": "c2470a923a2ae89817d809bf8bd9dd84",
     "grade": false,
     "grade_id": "cell-ecf05e08626fd65b",
     "locked": true,
     "schema_version": 3,
     "solution": false
    }
   },
   "source": [
    "### Question 2. (15 pts)\n",
    "\n",
    "We've seen that so-called *dummy* classifiers can be used as a simple *sanity-check* baseline against which to compare real classifier performance. If your classifier can't do much better than the dummy classifier, you probably have more work to do.\n",
    "\n",
    "Using `X_train`, `X_test`, `y_train`, and `y_test`, train two dummy classifiers: (A) one that respects the training set's label distribution and (B) one that classifies everything as the majority class of the training data. Where appropriate, make sure to set the *random_state* parameter to zero. \n",
    "\n",
    "Then on the test set, for each of the classifiers A and B, compute precision, recall, and accuracy. Report your results as a single tuple as shown below. Once you have the results, it's instructive to compare these two different types of dummy baselines to understand why they are different.\n",
    "\n",
    "*This function should a return a tuple of six floats, like so:*\n",
    "\n",
    "*`(precision_score_A, recall_score_A, accuracy_score_A, precision_score_B, recall_score_B, accuracy_score_B)`.*"
   ]
  },
  {
   "cell_type": "code",
   "execution_count": 12,
   "metadata": {
    "deletable": false,
    "nbgrader": {
     "cell_type": "code",
     "checksum": "f6ac2608cce72b7cc7e0bc08d7b83dd6",
     "grade": false,
     "grade_id": "cell-c86283c4010030e7",
     "locked": false,
     "schema_version": 3,
     "solution": true
    }
   },
   "outputs": [],
   "source": [
    "from sklearn.dummy import DummyClassifier\n",
    "from sklearn.metrics import precision_score\n",
    "from sklearn.metrics import recall_score\n",
    "\n",
    "\n",
    "def answer_two():\n",
    "    preA, recA, accA, preB, recB, accB = None, None, None, None, None, None\n",
    "\n",
    "    # YOUR CODE HERE\n",
    "#     raise NotImplementedError()\n",
    "    dclfa = DummyClassifier(strategy = 'stratified', random_state = 0)\n",
    "    dclfa.fit(X_train, y_train)\n",
    "    recA = recall_score(y_test, dclfa.predict(X_test))\n",
    "    preA = precision_score(y_test, dclfa.predict(X_test))\n",
    "    accA = sum(dclfa.predict(X_test) == y_test)/len(y_test)\n",
    "\n",
    "\n",
    "    dclfb = DummyClassifier(strategy = 'most_frequent', random_state = 0)\n",
    "    dclfb.fit(X_train, y_train)\n",
    "    recall_score(y_test, dclfb.predict(X_test))\n",
    "    recB = recall_score(y_test, dclfb.predict(X_test))\n",
    "    preB = precision_score(y_test, dclfb.predict(X_test))\n",
    "    accB = sum(dclfb.predict(X_test) == y_test)/len(y_test)\n",
    "\n",
    "    return preA, recA, accA, preB, recB, accB"
   ]
  },
  {
   "cell_type": "code",
   "execution_count": 13,
   "metadata": {},
   "outputs": [
    {
     "data": {
      "text/plain": [
       "(0.3995433789954338,\n",
       " 0.3804347826086957,\n",
       " 0.523892267593397,\n",
       " 0.0,\n",
       " 0.0,\n",
       " 0.6003475238922676)"
      ]
     },
     "execution_count": 13,
     "metadata": {},
     "output_type": "execute_result"
    }
   ],
   "source": [
    "# # use this cell to explore your solution\n",
    "# # remember to comment the function call before submitting the notebook\n",
    "\n",
    "answer_two()"
   ]
  },
  {
   "cell_type": "code",
   "execution_count": 14,
   "metadata": {
    "deletable": false,
    "editable": false,
    "nbgrader": {
     "cell_type": "code",
     "checksum": "6c20a82996100408dea24712b18dc23f",
     "grade": true,
     "grade_id": "cell-bf16d0fdf5486eb0",
     "locked": true,
     "points": 15,
     "schema_version": 3,
     "solution": false
    }
   },
   "outputs": [],
   "source": [
    "# Autograder tests\n",
    "\n",
    "stu_ans = answer_two()\n",
    "\n",
    "assert isinstance(stu_ans, tuple), \"Q2: Your function should return a tuple. \"\n",
    "assert len(stu_ans) == 6, \"Q2: The length of your returned tuple should be 6. \"\n",
    "assert all(\n",
    "    [isinstance(item, float) for item in stu_ans]\n",
    "), \"Q2: Your tuple should only contain floats. \"\n",
    "# assert isinstance(stu_ans[0], float) and isinstance(stu_ans[1], float) and isinstance(stu_ans[2], float) and isinstance(stu_ans[3], float) and isinstance(stu_ans[4], float) and isinstance(stu_ans[5], float), \"Q2: Your tuple should only contain floats. \"\n",
    "\n",
    "del stu_ans"
   ]
  },
  {
   "cell_type": "markdown",
   "metadata": {
    "deletable": false,
    "editable": false,
    "nbgrader": {
     "cell_type": "markdown",
     "checksum": "d5dfd3ce25650b3324d86997018e7a65",
     "grade": false,
     "grade_id": "cell-09786aeeb7272bfe",
     "locked": true,
     "schema_version": 3,
     "solution": false
    }
   },
   "source": [
    "### Question 3. (15 pts)\n",
    "\n",
    "Using `X_train`, `X_test`, `y_train`, and `y_test`, train an SVC classifier with the default hyper-parameters. What are the accuracy, recall and precision of this classifier on the testing set?\n",
    "\n",
    "*This function should a return a tuple of three floats, i.e. `(accuracy score, recall score, precision score)`.*"
   ]
  },
  {
   "cell_type": "code",
   "execution_count": 15,
   "metadata": {
    "deletable": false,
    "nbgrader": {
     "cell_type": "code",
     "checksum": "27f76338123ceca67ac4bb92a2537a82",
     "grade": false,
     "grade_id": "cell-e6948fe88697bcdf",
     "locked": false,
     "schema_version": 3,
     "solution": true
    }
   },
   "outputs": [],
   "source": [
    "from sklearn.svm import SVC\n",
    "from sklearn.metrics import recall_score, precision_score\n",
    "\n",
    "\n",
    "def answer_three():\n",
    "    acc, rec, pre = (None,) * 3  # accuracy, recall and precision\n",
    "\n",
    "    clf = SVC()\n",
    "    clf.fit(X_train, y_train)\n",
    "    rec = recall_score(y_test, clf.predict(X_test))\n",
    "    pre = precision_score(y_test, clf.predict(X_test))\n",
    "    acc = sum(clf.predict(X_test) == y_test)/len(y_test)\n",
    "\n",
    "    return acc, rec, pre"
   ]
  },
  {
   "cell_type": "code",
   "execution_count": 16,
   "metadata": {},
   "outputs": [
    {
     "data": {
      "text/plain": [
       "(0.9218071242397915, 0.8673913043478261, 0.9322429906542056)"
      ]
     },
     "execution_count": 16,
     "metadata": {},
     "output_type": "execute_result"
    }
   ],
   "source": [
    "# # use this cell to explore your solution\n",
    "# # remember to comment the function call before submitting the notebook\n",
    "\n",
    "answer_three()"
   ]
  },
  {
   "cell_type": "code",
   "execution_count": 17,
   "metadata": {
    "deletable": false,
    "editable": false,
    "nbgrader": {
     "cell_type": "code",
     "checksum": "5cab0b3beb7896e473361aaa68711e11",
     "grade": true,
     "grade_id": "cell-7dedd52cffa371c6",
     "locked": true,
     "points": 15,
     "schema_version": 3,
     "solution": false
    }
   },
   "outputs": [],
   "source": [
    "# Autograder tests\n",
    "\n",
    "stu_ans = answer_three()\n",
    "\n",
    "assert isinstance(stu_ans, tuple), \"Q3: Your function should return a tuple. \"\n",
    "assert len(stu_ans) == 3, \"Q3: The length of your returned tuple should be 3. \"\n",
    "assert all(\n",
    "    [isinstance(item, float) for item in stu_ans]\n",
    "), \"Q3: Your tuple should only contain floats. \"\n",
    "\n",
    "del stu_ans"
   ]
  },
  {
   "cell_type": "markdown",
   "metadata": {
    "deletable": false,
    "editable": false,
    "nbgrader": {
     "cell_type": "markdown",
     "checksum": "be54370a59a23073e3353dcbe81ea511",
     "grade": false,
     "grade_id": "cell-b1dbd6914b524aca",
     "locked": true,
     "schema_version": 3,
     "solution": false
    }
   },
   "source": [
    "### Question 4. (20 pts)\n",
    "\n",
    "Train an SVC classifier with default hyper-parameters except for `{\"C\": 1e9, \"gamma\": 1e-8}`. What is the confusion matrix on the testing set if we use a threshold of `-100` for the decision function? That is, we classify instances with a raw score greater than -100 under the decision function as Class 1. \n",
    "\n",
    "*This function should return a 2x2 numpy array of 4 integers.*"
   ]
  },
  {
   "cell_type": "code",
   "execution_count": 18,
   "metadata": {
    "deletable": false,
    "nbgrader": {
     "cell_type": "code",
     "checksum": "986087305c20acbc5d3a5f1b7d074770",
     "grade": false,
     "grade_id": "cell-9b75dcf2c5c9b4e0",
     "locked": false,
     "schema_version": 3,
     "solution": true
    }
   },
   "outputs": [],
   "source": [
    "from sklearn.metrics import confusion_matrix\n",
    "from sklearn.svm import SVC\n",
    "\n",
    "\n",
    "def answer_four():\n",
    "    conf_mtrx = None\n",
    "    clf = SVC(gamma=1e-8, C=1e9)\n",
    "    clf.fit(X_train, y_train)\n",
    "    y_pred = np.where(clf.decision_function(X_test) > -100,1,0)\n",
    "    conf_mtrx = confusion_matrix(y_test, y_pred)\n",
    "\n",
    "    # YOUR CODE HERE\n",
    "#     raise NotImplementedError()\n",
    "\n",
    "    return conf_mtrx"
   ]
  },
  {
   "cell_type": "code",
   "execution_count": 37,
   "metadata": {},
   "outputs": [],
   "source": [
    "clf = SVC(gamma=1e-8, C=1e9)\n",
    "clf.fit(X_train, y_train)\n",
    "y_pred = np.where(clf.decision_function(X_test) > -100,1,0)"
   ]
  },
  {
   "cell_type": "code",
   "execution_count": 39,
   "metadata": {},
   "outputs": [
    {
     "data": {
      "text/plain": [
       "array([[653,  38],\n",
       "       [ 89, 371]])"
      ]
     },
     "execution_count": 39,
     "metadata": {},
     "output_type": "execute_result"
    }
   ],
   "source": [
    "confusion_matrix(y_test, y_pred)"
   ]
  },
  {
   "cell_type": "code",
   "execution_count": 19,
   "metadata": {},
   "outputs": [
    {
     "data": {
      "text/plain": [
       "array([[653,  38],\n",
       "       [ 89, 371]])"
      ]
     },
     "execution_count": 19,
     "metadata": {},
     "output_type": "execute_result"
    }
   ],
   "source": [
    "# # use this cell to explore your solution\n",
    "# # remember to comment the function call before submitting the notebook\n",
    "\n",
    "answer_four()"
   ]
  },
  {
   "cell_type": "code",
   "execution_count": 20,
   "metadata": {
    "deletable": false,
    "editable": false,
    "nbgrader": {
     "cell_type": "code",
     "checksum": "eb2114a2c661e7eb3a2479a5cbf8df10",
     "grade": true,
     "grade_id": "cell-f20e5352013bafae",
     "locked": true,
     "points": 20,
     "schema_version": 3,
     "solution": false
    }
   },
   "outputs": [],
   "source": [
    "# Autograder tests\n",
    "\n",
    "stu_ans = answer_four()\n",
    "\n",
    "assert isinstance(stu_ans, np.ndarray), \"Q4: Your function should return a np.ndarray. \"\n",
    "assert stu_ans.shape == (2, 2), \"Q4: Your confusion matrix should be of size 2x2. \"\n",
    "\n",
    "del stu_ans"
   ]
  },
  {
   "cell_type": "markdown",
   "metadata": {
    "deletable": false,
    "editable": false,
    "nbgrader": {
     "cell_type": "markdown",
     "checksum": "ace3130d0057761dfcbd62c348c71a25",
     "grade": false,
     "grade_id": "cell-2b3d6f5fdebbca31",
     "locked": true,
     "schema_version": 3,
     "solution": false
    }
   },
   "source": [
    "### Question 5. (20 pts)\n",
    "\n",
    "Train a logistic regression spam e-mail classifier with default hyper-parameters using `X_train` and `y_train`. Create a precision-recall curve and a Receiver Operating Characteristic (ROC) curve using `y_test` and the probability estimates of being \"spam\" for X_test.\n",
    "\n",
    "- Based on the precision-recall curve, what is the recall when the precision is $0.90$?\n",
    "\n",
    "- Based on the ROC curve, what is the true positive rate when the false positive rate is $0.10$?\n",
    "\n",
    "Write a function to return the answers. Note you can use a pure programming approach to get the answers: you don't have to actually \"plot\" the curves. However, it's quite instructive to plot these curves to understand just how e.g. precision and recall trade off. So you can plot the curves and read off the answers. Answers correct up to $\\pm 0.02$ are accepted. \n",
    "\n",
    "*This function should return a tuple with two floats, i.e. `(recall, true positive rate)`.*"
   ]
  },
  {
   "cell_type": "code",
   "execution_count": 41,
   "metadata": {},
   "outputs": [
    {
     "data": {
      "text/html": [
       "<style>#sk-container-id-2 {color: black;background-color: white;}#sk-container-id-2 pre{padding: 0;}#sk-container-id-2 div.sk-toggleable {background-color: white;}#sk-container-id-2 label.sk-toggleable__label {cursor: pointer;display: block;width: 100%;margin-bottom: 0;padding: 0.3em;box-sizing: border-box;text-align: center;}#sk-container-id-2 label.sk-toggleable__label-arrow:before {content: \"▸\";float: left;margin-right: 0.25em;color: #696969;}#sk-container-id-2 label.sk-toggleable__label-arrow:hover:before {color: black;}#sk-container-id-2 div.sk-estimator:hover label.sk-toggleable__label-arrow:before {color: black;}#sk-container-id-2 div.sk-toggleable__content {max-height: 0;max-width: 0;overflow: hidden;text-align: left;background-color: #f0f8ff;}#sk-container-id-2 div.sk-toggleable__content pre {margin: 0.2em;color: black;border-radius: 0.25em;background-color: #f0f8ff;}#sk-container-id-2 input.sk-toggleable__control:checked~div.sk-toggleable__content {max-height: 200px;max-width: 100%;overflow: auto;}#sk-container-id-2 input.sk-toggleable__control:checked~label.sk-toggleable__label-arrow:before {content: \"▾\";}#sk-container-id-2 div.sk-estimator input.sk-toggleable__control:checked~label.sk-toggleable__label {background-color: #d4ebff;}#sk-container-id-2 div.sk-label input.sk-toggleable__control:checked~label.sk-toggleable__label {background-color: #d4ebff;}#sk-container-id-2 input.sk-hidden--visually {border: 0;clip: rect(1px 1px 1px 1px);clip: rect(1px, 1px, 1px, 1px);height: 1px;margin: -1px;overflow: hidden;padding: 0;position: absolute;width: 1px;}#sk-container-id-2 div.sk-estimator {font-family: monospace;background-color: #f0f8ff;border: 1px dotted black;border-radius: 0.25em;box-sizing: border-box;margin-bottom: 0.5em;}#sk-container-id-2 div.sk-estimator:hover {background-color: #d4ebff;}#sk-container-id-2 div.sk-parallel-item::after {content: \"\";width: 100%;border-bottom: 1px solid gray;flex-grow: 1;}#sk-container-id-2 div.sk-label:hover label.sk-toggleable__label {background-color: #d4ebff;}#sk-container-id-2 div.sk-serial::before {content: \"\";position: absolute;border-left: 1px solid gray;box-sizing: border-box;top: 0;bottom: 0;left: 50%;z-index: 0;}#sk-container-id-2 div.sk-serial {display: flex;flex-direction: column;align-items: center;background-color: white;padding-right: 0.2em;padding-left: 0.2em;position: relative;}#sk-container-id-2 div.sk-item {position: relative;z-index: 1;}#sk-container-id-2 div.sk-parallel {display: flex;align-items: stretch;justify-content: center;background-color: white;position: relative;}#sk-container-id-2 div.sk-item::before, #sk-container-id-2 div.sk-parallel-item::before {content: \"\";position: absolute;border-left: 1px solid gray;box-sizing: border-box;top: 0;bottom: 0;left: 50%;z-index: -1;}#sk-container-id-2 div.sk-parallel-item {display: flex;flex-direction: column;z-index: 1;position: relative;background-color: white;}#sk-container-id-2 div.sk-parallel-item:first-child::after {align-self: flex-end;width: 50%;}#sk-container-id-2 div.sk-parallel-item:last-child::after {align-self: flex-start;width: 50%;}#sk-container-id-2 div.sk-parallel-item:only-child::after {width: 0;}#sk-container-id-2 div.sk-dashed-wrapped {border: 1px dashed gray;margin: 0 0.4em 0.5em 0.4em;box-sizing: border-box;padding-bottom: 0.4em;background-color: white;}#sk-container-id-2 div.sk-label label {font-family: monospace;font-weight: bold;display: inline-block;line-height: 1.2em;}#sk-container-id-2 div.sk-label-container {text-align: center;}#sk-container-id-2 div.sk-container {/* jupyter's `normalize.less` sets `[hidden] { display: none; }` but bootstrap.min.css set `[hidden] { display: none !important; }` so we also need the `!important` here to be able to override the default hidden behavior on the sphinx rendered scikit-learn.org. See: https://github.com/scikit-learn/scikit-learn/issues/21755 */display: inline-block !important;position: relative;}#sk-container-id-2 div.sk-text-repr-fallback {display: none;}</style><div id=\"sk-container-id-2\" class=\"sk-top-container\"><div class=\"sk-text-repr-fallback\"><pre>LogisticRegression()</pre><b>In a Jupyter environment, please rerun this cell to show the HTML representation or trust the notebook. <br />On GitHub, the HTML representation is unable to render, please try loading this page with nbviewer.org.</b></div><div class=\"sk-container\" hidden><div class=\"sk-item\"><div class=\"sk-estimator sk-toggleable\"><input class=\"sk-toggleable__control sk-hidden--visually\" id=\"sk-estimator-id-2\" type=\"checkbox\" checked><label for=\"sk-estimator-id-2\" class=\"sk-toggleable__label sk-toggleable__label-arrow\">LogisticRegression</label><div class=\"sk-toggleable__content\"><pre>LogisticRegression()</pre></div></div></div></div></div>"
      ],
      "text/plain": [
       "LogisticRegression()"
      ]
     },
     "execution_count": 41,
     "metadata": {},
     "output_type": "execute_result"
    }
   ],
   "source": [
    "from sklearn.linear_model import LogisticRegression\n",
    "from sklearn.metrics import precision_recall_curve, roc_curve\n",
    "clf = LogisticRegression()\n",
    "clf.fit(X_train,y_train)"
   ]
  },
  {
   "cell_type": "code",
   "execution_count": 22,
   "metadata": {},
   "outputs": [],
   "source": [
    "pr, re, _ = precision_recall_curve(y_test, clf.predict_proba(X_test)[:,1])"
   ]
  },
  {
   "cell_type": "code",
   "execution_count": 23,
   "metadata": {},
   "outputs": [
    {
     "data": {
      "text/plain": [
       "Text(0, 0.5, 'Recall')"
      ]
     },
     "execution_count": 23,
     "metadata": {},
     "output_type": "execute_result"
    },
    {
     "data": {
      "image/png": "[encoded data removed]",
      "text/plain": [
       "<Figure size 432x288 with 1 Axes>"
      ]
     },
     "metadata": {
      "needs_background": "light"
     },
     "output_type": "display_data"
    }
   ],
   "source": [
    "fig, ax = plt.subplots()\n",
    "ax.plot(pr, re)\n",
    "plt.xlabel('Precision')\n",
    "plt.ylabel('Recall')"
   ]
  },
  {
   "cell_type": "code",
   "execution_count": 24,
   "metadata": {
    "deletable": false,
    "nbgrader": {
     "cell_type": "code",
     "checksum": "4a1f99ce14f4f8513aacb6af247e8d53",
     "grade": false,
     "grade_id": "cell-c58a02c7d24728be",
     "locked": false,
     "schema_version": 3,
     "solution": true
    }
   },
   "outputs": [],
   "source": [
    "from sklearn.metrics import precision_recall_curve\n",
    "from sklearn.linear_model import LogisticRegression\n",
    "from sklearn.metrics import roc_curve\n",
    "\n",
    "\n",
    "def answer_five():\n",
    "    rec, tpr = None, None  # recall and TP rate\n",
    "    \n",
    "    model = LogisticRegression()\n",
    "    model.fit(X_train, y_train)\n",
    "    # y_pred = model.predict(X_test)\n",
    "    y_pred = model.predict_proba(X_test)\n",
    "    y_pred[:,1]\n",
    "    pr, re, _ = precision_recall_curve(y_test,y_pred[:,1])\n",
    "    plt.plot(pr, re, linestyle='--', label='Precision Recall Curve')\n",
    "    plt.xlabel('Precision')\n",
    "    plt.ylabel('Recall')\n",
    "    plt.legend()\n",
    "    plt.show()\n",
    "    rec = re[(pr*100).astype(int) == 90].mean()\n",
    "    \n",
    "    fpr, tpr, _ = roc_curve(y_test,y_pred[:,1])\n",
    "    plt.plot(fpr, tpr, linestyle='--', label='ROC Curve', color = 'red')\n",
    "    plt.xlabel('False Positive Rate')\n",
    "    plt.ylabel('True Positive Rate')\n",
    "    plt.legend()\n",
    "    plt.show()\n",
    "    tpr = tpr[(fpr*100).astype(int) == 10].mean()\n",
    "\n",
    "    # YOUR CODE HERE\n",
    "    #raise NotImplementedError()\n",
    "\n",
    "    return rec, tpr"
   ]
  },
  {
   "cell_type": "code",
   "execution_count": 25,
   "metadata": {},
   "outputs": [
    {
     "data": {
      "image/png": "[encoded data removed]",
      "text/plain": [
       "<Figure size 432x288 with 1 Axes>"
      ]
     },
     "metadata": {
      "needs_background": "light"
     },
     "output_type": "display_data"
    },
    {
     "data": {
      "image/png": "[encoded data removed]",
      "text/plain": [
       "<Figure size 432x288 with 1 Axes>"
      ]
     },
     "metadata": {
      "needs_background": "light"
     },
     "output_type": "display_data"
    },
    {
     "data": {
      "text/plain": [
       "(0.8462450592885375, 0.9114130434782609)"
      ]
     },
     "execution_count": 25,
     "metadata": {},
     "output_type": "execute_result"
    }
   ],
   "source": [
    "# # use this cell to explore your solution\n",
    "# # remember to comment the function call before submitting the notebook\n",
    "\n",
    "answer_five()"
   ]
  },
  {
   "cell_type": "code",
   "execution_count": 26,
   "metadata": {
    "deletable": false,
    "editable": false,
    "nbgrader": {
     "cell_type": "code",
     "checksum": "f69af4d8ddf099e28a52b5f0b6c0b189",
     "grade": true,
     "grade_id": "cell-baff7afc38159ba6",
     "locked": true,
     "points": 20,
     "schema_version": 3,
     "solution": false
    }
   },
   "outputs": [
    {
     "data": {
      "image/png": "[encoded data removed]",
      "text/plain": [
       "<Figure size 432x288 with 1 Axes>"
      ]
     },
     "metadata": {
      "needs_background": "light"
     },
     "output_type": "display_data"
    },
    {
     "data": {
      "image/png": "[encoded data removed]",
      "text/plain": [
       "<Figure size 432x288 with 1 Axes>"
      ]
     },
     "metadata": {
      "needs_background": "light"
     },
     "output_type": "display_data"
    }
   ],
   "source": [
    "# Autograder tests\n",
    "\n",
    "stu_ans = answer_five()\n",
    "\n",
    "assert isinstance(stu_ans, tuple), \"Q5: Your function should return a tuple. \"\n",
    "assert len(stu_ans) == 2, \"Q5: The length of your tuple should be 2. \"\n",
    "assert stu_ans[0] >= 0.7, \"Q5: Your recall value should be greater than 0.7. \"\n",
    "assert stu_ans[1] >= 0.7, \"Q5: Your TP rate value should be greater than 0.7. \"\n",
    "\n",
    "del stu_ans"
   ]
  },
  {
   "cell_type": "code",
   "execution_count": 27,
   "metadata": {
    "deletable": false,
    "editable": false,
    "nbgrader": {
     "cell_type": "code",
     "checksum": "581a4ccada510793767e72ada1532983",
     "grade": false,
     "grade_id": "cell-0515faccbcd43da7",
     "locked": true,
     "schema_version": 3,
     "solution": false,
     "task": false
    }
   },
   "outputs": [],
   "source": [
    "from sklearn.metrics import (\n",
    "    plot_precision_recall_curve,\n",
    "    precision_recall_curve,\n",
    "    PrecisionRecallDisplay,\n",
    ")\n",
    "\n",
    "\n",
    "def plot_PR_curve():\n",
    "\n",
    "    log_reg = LogisticRegression().fit(X_train, y_train)\n",
    "\n",
    "    preds = log_reg.predict(X_test)\n",
    "\n",
    "    pre, rec, _ = precision_recall_curve(y_test, preds)\n",
    "\n",
    "    fig, ax = plt.subplots(figsize=(8, 6))\n",
    "    disp = PrecisionRecallDisplay.from_estimator(log_reg, X_test, y_test, ax=ax)\n",
    "\n",
    "    # the following is deprecated in version 1.0\n",
    "    # disp = plot_precision_recall_curve(log_reg, X_test, y_test, ax=ax)\n",
    "\n",
    "    return\n",
    "\n",
    "\n",
    "## contents of next cell\n",
    "# Remember to comment them out before submitting the notebook\n",
    "# plot_PR_curve()"
   ]
  },
  {
   "cell_type": "code",
   "execution_count": 28,
   "metadata": {},
   "outputs": [
    {
     "data": {
      "image/png": "[encoded data removed]",
      "text/plain": [
       "<Figure size 576x432 with 1 Axes>"
      ]
     },
     "metadata": {
      "needs_background": "light"
     },
     "output_type": "display_data"
    }
   ],
   "source": [
    "# # Remember to comment them out before submitting the notebook\n",
    "\n",
    "plot_PR_curve()"
   ]
  },
  {
   "cell_type": "markdown",
   "metadata": {
    "deletable": false,
    "editable": false,
    "nbgrader": {
     "cell_type": "markdown",
     "checksum": "9fec0c9c6264bf5810213d6172ede6d2",
     "grade": false,
     "grade_id": "cell-46acd1f5bd1235bb",
     "locked": true,
     "schema_version": 3,
     "solution": false
    }
   },
   "source": [
    "### Question 6. (15 pts)\n",
    "\n",
    "Perform a grid search over the hyper-parameters listed below for a Logistic Regression classifier, optimizing for classifier **precision** for scoring and five-fold cross validation. \n",
    "\n",
    "**Note: Use the following parameter settings for the logistic regression:**\n",
    " * Use the 'liblinear' solver, which supports both L1 and L2 regularization.\n",
    " * Set `random_state=42`, since the solver uses randomization internally.\n",
    "\n",
    "`'penalty': ['l1', 'l2']`\n",
    "\n",
    "`'C':[0.005, 0.01, 0.05, 0.1, 1, 10]`\n",
    "\n",
    "From `.cv_results_`, create an array of the mean test scores for each hyper-parameter combination. i.e.\n",
    "\n",
    "|   `C`   \t| `l1` \t| `l2` \t|\n",
    "|:----:\t|----\t|----\t|\n",
    "| **`0.005`** \t|    ?\t|   ? \t|\n",
    "| **`0.01`** \t|    ?\t|   ? \t|\n",
    "| **`0.05`** \t|    ?\t|   ? \t|\n",
    "| **`0.1`**  \t|    ?\t|   ? \t|\n",
    "| **`1`**    \t|    ?\t|   ? \t|\n",
    "| **`10`**   \t|    ?\t|   ? \t|\n",
    "\n",
    "<br>\n",
    "\n",
    "*This function should return a 6 by 2 numpy array of floats that contain the values for each \"?\" above. Do not return a pd.DataFrame.*"
   ]
  },
  {
   "cell_type": "code",
   "execution_count": 29,
   "metadata": {
    "deletable": false,
    "nbgrader": {
     "cell_type": "code",
     "checksum": "2ef4e508713643419f25f93097379a41",
     "grade": false,
     "grade_id": "cell-64775fc70305f296",
     "locked": false,
     "schema_version": 3,
     "solution": true
    }
   },
   "outputs": [],
   "source": [
    "from sklearn.model_selection import GridSearchCV\n",
    "from sklearn.linear_model import LogisticRegression\n",
    "\n",
    "\n",
    "def answer_six():\n",
    "    mean_test_scores = None\n",
    "    grid_values = {'penalty': ['l1','l2'], 'C': [0.005, 0.01, 0.05, 0.1, 1, 10]}\n",
    "    model = LogisticRegression(solver = 'liblinear', random_state = 42)\n",
    "    grid_search = GridSearchCV(estimator = model,  \n",
    "                               param_grid = grid_values,\n",
    "                               scoring = 'precision',\n",
    "                               cv = 5,\n",
    "                               verbose=0)\n",
    "    grid_search.fit(X_train, y_train)\n",
    "    l1 = [i for i, dic in enumerate(grid_search.cv_results_['params']) if dic['penalty'] == 'l1']\n",
    "    l2 = [i for i, dic in enumerate(grid_search.cv_results_['params']) if dic['penalty'] == 'l2']\n",
    "#     grid_search.cv_results_['mean_test_score']\n",
    "    x = grid_search.cv_results_['mean_test_score'][l1].T\n",
    "    y = grid_search.cv_results_['mean_test_score'][l2].T\n",
    "    x = x.reshape(6,1)\n",
    "    y = y.reshape(6,1)\n",
    "\n",
    "    # YOUR CODE HERE\n",
    "#     raise NotImplementedError()\n",
    "    mean_test_scores = np.hstack((x,y))\n",
    "\n",
    "    return mean_test_scores"
   ]
  },
  {
   "cell_type": "code",
   "execution_count": 30,
   "metadata": {},
   "outputs": [
    {
     "data": {
      "text/plain": [
       "array([[0.86896499, 0.91596042],\n",
       "       [0.90477913, 0.91791225],\n",
       "       [0.92880536, 0.92266374],\n",
       "       [0.93051486, 0.92124649],\n",
       "       [0.92606445, 0.92687087],\n",
       "       [0.92336704, 0.92308448]])"
      ]
     },
     "execution_count": 30,
     "metadata": {},
     "output_type": "execute_result"
    }
   ],
   "source": [
    "# # use this cell to explore your solution\n",
    "# # remember to comment the function call before submitting the notebook\n",
    "\n",
    "answer_six()"
   ]
  },
  {
   "cell_type": "code",
   "execution_count": 31,
   "metadata": {
    "deletable": false,
    "editable": false,
    "nbgrader": {
     "cell_type": "code",
     "checksum": "490e85a44c1019ced1b3ddfb64bd90d6",
     "grade": true,
     "grade_id": "cell-3ff84c6fb5b851ff",
     "locked": true,
     "points": 15,
     "schema_version": 3,
     "solution": false
    }
   },
   "outputs": [],
   "source": [
    "# Autograder tests\n",
    "\n",
    "stu_ans = answer_six()\n",
    "assert isinstance(stu_ans, np.ndarray), \"Q6: Your function should return a np.ndarray. \"\n",
    "assert stu_ans.shape == (6, 2), \"Q6: Your np.ndarray should be of shape (6, 2). \"\n",
    "\n",
    "del stu_ans"
   ]
  },
  {
   "cell_type": "code",
   "execution_count": 32,
   "metadata": {
    "deletable": false,
    "editable": false,
    "nbgrader": {
     "cell_type": "code",
     "checksum": "bcb102ae4bca8041bb4f626a080dc0f9",
     "grade": false,
     "grade_id": "cell-3aa6e132fffdcd21",
     "locked": true,
     "schema_version": 3,
     "solution": false,
     "task": false
    }
   },
   "outputs": [],
   "source": [
    "# Optional: use the following function to help visualise the results from the grid search\n",
    "\n",
    "\n",
    "def GridSearch_Heatmap(scores):\n",
    "    plt.figure(figsize=(8, 6))\n",
    "    plt.yticks(rotation=0)\n",
    "\n",
    "    sns.heatmap(\n",
    "        scores.reshape(6, 2),\n",
    "        xticklabels=[\"l1\", \"l2\"],\n",
    "        yticklabels=[0.005, 0.01, 0.05, 0.1, 1, 10],\n",
    "    )\n",
    "\n",
    "    return\n",
    "\n",
    "\n",
    "## contents of next cell\n",
    "# Remember to comment it out before submitting the notebook\n",
    "# GridSearch_Heatmap(answer_six())"
   ]
  },
  {
   "cell_type": "code",
   "execution_count": 33,
   "metadata": {},
   "outputs": [],
   "source": [
    "# # Remember to comment it out before submitting the notebook\n",
    "\n",
    "# GridSearch_Heatmap(answer_six())"
   ]
  },
  {
   "cell_type": "markdown",
   "metadata": {
    "deletable": false,
    "editable": false,
    "nbgrader": {
     "cell_type": "markdown",
     "checksum": "ad6f4fd340834822e70b4eddddbcfd61",
     "grade": false,
     "grade_id": "cell-ba5820ba9bb669dd",
     "locked": true,
     "schema_version": 3,
     "solution": false
    }
   },
   "source": [
    "### Question 7. Normalizing features when using regularization (5 pts)\n",
    "\n",
    "Now re-run the code from Question 6 above, but using the raw *unnormalized* training data (i.e. X_train_raw as computed previously as part of Q1.). Return the *highest* precision you obtained from cross-validation in Q6 using normalized features, and the *highest* precision you obtain with the raw, unnormalized features. \n",
    "\n",
    "Your function should return a two-element tuple of floats `(best_precision_normalized, best_precision_unnormalized)`\n",
    "\n",
    "It is very instructive to compare the results from (a) using correctly normalized features, vs. (b) forgetting to normalize the features and (c) the dummy baseline you computed in Q2.\n"
   ]
  },
  {
   "cell_type": "code",
   "execution_count": 34,
   "metadata": {
    "deletable": false,
    "nbgrader": {
     "cell_type": "code",
     "checksum": "1ab13edd1a6d5b68e4f04d49025b867c",
     "grade": false,
     "grade_id": "cell-2fb421ea967d0fec",
     "locked": false,
     "schema_version": 3,
     "solution": true
    }
   },
   "outputs": [],
   "source": [
    "from sklearn.model_selection import GridSearchCV\n",
    "from sklearn.linear_model import LogisticRegression\n",
    "\n",
    "\n",
    "def answer_seven():\n",
    "    best_precision_normalized = None\n",
    "    best_precision_unnormalized = None\n",
    "\n",
    "    # YOUR CODE HERE\n",
    "#     raise NotImplementedError()\n",
    "    grid_values = {'penalty': ['l1','l2'], 'C': [0.005, 0.01, 0.05, 0.1, 1, 10]}\n",
    "    model = LogisticRegression(solver = 'liblinear', random_state = 42)\n",
    "    grid_search = GridSearchCV(estimator = model,  \n",
    "                               param_grid = grid_values,\n",
    "                               scoring = 'precision',\n",
    "                               cv = 5,\n",
    "                               verbose=0)\n",
    "    grid_search.fit(X_train, y_train)\n",
    "    best_precision_normalized = grid_search.best_score_\n",
    "    grid_search.fit(X_train_raw, y_train)\n",
    "    best_precision_unnormalized = grid_search.best_score_\n",
    "\n",
    "    return (best_precision_normalized, best_precision_unnormalized)"
   ]
  },
  {
   "cell_type": "code",
   "execution_count": 35,
   "metadata": {},
   "outputs": [
    {
     "data": {
      "text/plain": [
       "(0.9305148616765073, 0.9242576696283864)"
      ]
     },
     "execution_count": 35,
     "metadata": {},
     "output_type": "execute_result"
    }
   ],
   "source": [
    "# # use this cell to explore your solution\n",
    "# # remember to comment the function call before submitting the notebook\n",
    "\n",
    "answer_seven()"
   ]
  },
  {
   "cell_type": "code",
   "execution_count": 36,
   "metadata": {
    "deletable": false,
    "editable": false,
    "nbgrader": {
     "cell_type": "code",
     "checksum": "4fb8627759bca0071d750c3e61f77e26",
     "grade": true,
     "grade_id": "cell-215f1fdf2855ff87",
     "locked": true,
     "points": 5,
     "schema_version": 3,
     "solution": false
    }
   },
   "outputs": [],
   "source": [
    "# Autograder tests\n",
    "\n",
    "stu_ans = answer_seven()\n",
    "\n",
    "assert isinstance(stu_ans, tuple), \"Q7: Your function should return a tuple. \"\n",
    "assert len(stu_ans) == 2, \"Q7: The length of your returned tuple should be 2. \"\n",
    "assert all(\n",
    "    [isinstance(item, float) for item in stu_ans]\n",
    "), \"Q7: Your tuple should only contain floats. \"\n",
    "\n",
    "del stu_ans"
   ]
  }
 ],
 "metadata": {
  "coursera": {
   "schema_names": [
    "mads_supervised_learning_v2_assignment3"
   ]
  },
  "kernelspec": {
   "display_name": "Python 3 (ipykernel)",
   "language": "python",
   "name": "python3"
  },
  "language_info": {
   "codemirror_mode": {
    "name": "ipython",
    "version": 3
   },
   "file_extension": ".py",
   "mimetype": "text/x-python",
   "name": "python",
   "nbconvert_exporter": "python",
   "pygments_lexer": "ipython3",
   "version": "3.8.10"
  }
 },
 "nbformat": 4,
 "nbformat_minor": 2
}
